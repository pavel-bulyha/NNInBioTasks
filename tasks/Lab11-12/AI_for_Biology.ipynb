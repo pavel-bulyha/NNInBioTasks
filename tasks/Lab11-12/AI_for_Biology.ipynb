{
 "cells": [
  {
   "cell_type": "markdown",
   "metadata": {
    "id": "m2s4kN_QPQVe"
   },
   "source": [
    "# 🧬 **ИИ в биологии** 🧬\n",
    "\n",
    "<a href=\"https://ibb.co/Cs0GsQD\"><img src=\"https://i.ibb.co/mFzWF4g/d3ccc3f8-69e2-428f-8ec4-896221936735.webp\" alt=\"Scifi collage of AI in biology\" border=\"0\"></a>\n",
    "\n",
    "\n",
    "\n",
    "# Искусственный интеллект в биологии\n",
    "Добро пожаловать на практикум **Искусственный интеллект в биологии**! На этом занятии мы:\n",
    "- Узнаем о некоторых основных областях применения искусственного интеллекта в биологических науках\n",
    "- Рассмотрим роль ДНК и то, как обучаются языковые модели ДНК\n",
    "- Извлекайте и исследуйте встраивания ДНК с использованием предварительно обученной современной языковой модели ДНК\n",
    "- Погрузитесь в практическую задачу по моделированию последовательностей ДНК и их свойств\n",
    "\n",
    "**Предварительные требования:**\n",
    "\n",
    "1. Основы Python\n",
    "2. BioPython не требуется\n",
    "\n",
    "**Практический План:**\n",
    "\n",
    "<div align=\"left\">\n",
    "<a href=\"https://ibb.co/jryGWdL\"><img src=\"https://i.ibb.co/kS409ph/Screenshot-2024-07-23-at-21-48-22.png\" alt=\"Screenshot-2024-07-23-at-21-48-22\" width=\"400\" border=\"0\"></a>\n",
    "</div>\n",
    "\n",
    "\n",
    "\n",
    "**Перед началом работы:**\n",
    "\n",
    "Для этого практического занятия вам нужно будет использовать графический процессор (GPU), чтобы ускорить обучение. Для этого перейдите в меню \"Среда выполнения\" в Colab, выберите \"Сменить среду выполнения\", а затем во всплывающем меню выберите \"Графический процессор T4\" в поле \"Аппаратный ускоритель\".\n"
   ]
  },
  {
   "cell_type": "markdown",
   "metadata": {
    "id": "uaYkP5A7bGqF"
   },
   "source": [
    "Мы также уже можем установить и импортировать все необходимые пакеты:"
   ]
  },
  {
   "cell_type": "code",
   "execution_count": 90,
   "metadata": {
    "cellView": "form",
    "id": "4boGA9rYdt9l",
    "scrolled": true
   },
   "outputs": [
    {
     "name": "stdout",
     "output_type": "stream",
     "text": [
      "Requirement already satisfied: transformers in c:\\users\\pavel\\appdata\\local\\programs\\python\\python313\\lib\\site-packages (4.51.3)\n",
      "Requirement already satisfied: datasets in c:\\users\\pavel\\appdata\\local\\programs\\python\\python313\\lib\\site-packages (3.5.0)\n",
      "Requirement already satisfied: filelock in c:\\users\\pavel\\appdata\\local\\programs\\python\\python313\\lib\\site-packages (from transformers) (3.18.0)\n",
      "Requirement already satisfied: huggingface-hub<1.0,>=0.30.0 in c:\\users\\pavel\\appdata\\local\\programs\\python\\python313\\lib\\site-packages (from transformers) (0.30.2)\n",
      "Requirement already satisfied: numpy>=1.17 in c:\\users\\pavel\\appdata\\local\\programs\\python\\python313\\lib\\site-packages (from transformers) (2.2.2)\n",
      "Requirement already satisfied: packaging>=20.0 in c:\\users\\pavel\\appdata\\local\\programs\\python\\python313\\lib\\site-packages (from transformers) (24.2)\n",
      "Requirement already satisfied: pyyaml>=5.1 in c:\\users\\pavel\\appdata\\local\\programs\\python\\python313\\lib\\site-packages (from transformers) (6.0.2)\n",
      "Requirement already satisfied: regex!=2019.12.17 in c:\\users\\pavel\\appdata\\local\\programs\\python\\python313\\lib\\site-packages (from transformers) (2024.11.6)\n",
      "Requirement already satisfied: requests in c:\\users\\pavel\\appdata\\local\\programs\\python\\python313\\lib\\site-packages (from transformers) (2.32.3)\n",
      "Requirement already satisfied: tokenizers<0.22,>=0.21 in c:\\users\\pavel\\appdata\\local\\programs\\python\\python313\\lib\\site-packages (from transformers) (0.21.1)\n",
      "Requirement already satisfied: safetensors>=0.4.3 in c:\\users\\pavel\\appdata\\local\\programs\\python\\python313\\lib\\site-packages (from transformers) (0.5.3)\n",
      "Requirement already satisfied: tqdm>=4.27 in c:\\users\\pavel\\appdata\\local\\programs\\python\\python313\\lib\\site-packages (from transformers) (4.67.1)\n",
      "Requirement already satisfied: pyarrow>=15.0.0 in c:\\users\\pavel\\appdata\\local\\programs\\python\\python313\\lib\\site-packages (from datasets) (19.0.1)\n",
      "Requirement already satisfied: dill<0.3.9,>=0.3.0 in c:\\users\\pavel\\appdata\\local\\programs\\python\\python313\\lib\\site-packages (from datasets) (0.3.8)\n",
      "Requirement already satisfied: pandas in c:\\users\\pavel\\appdata\\local\\programs\\python\\python313\\lib\\site-packages (from datasets) (2.2.3)\n",
      "Requirement already satisfied: xxhash in c:\\users\\pavel\\appdata\\local\\programs\\python\\python313\\lib\\site-packages (from datasets) (3.5.0)\n",
      "Requirement already satisfied: multiprocess<0.70.17 in c:\\users\\pavel\\appdata\\local\\programs\\python\\python313\\lib\\site-packages (from datasets) (0.70.16)\n",
      "Requirement already satisfied: fsspec<=2024.12.0,>=2023.1.0 in c:\\users\\pavel\\appdata\\local\\programs\\python\\python313\\lib\\site-packages (from fsspec[http]<=2024.12.0,>=2023.1.0->datasets) (2024.12.0)\n",
      "Requirement already satisfied: aiohttp in c:\\users\\pavel\\appdata\\local\\programs\\python\\python313\\lib\\site-packages (from datasets) (3.11.16)\n",
      "Requirement already satisfied: aiohappyeyeballs>=2.3.0 in c:\\users\\pavel\\appdata\\local\\programs\\python\\python313\\lib\\site-packages (from aiohttp->datasets) (2.6.1)\n",
      "Requirement already satisfied: aiosignal>=1.1.2 in c:\\users\\pavel\\appdata\\local\\programs\\python\\python313\\lib\\site-packages (from aiohttp->datasets) (1.3.2)\n",
      "Requirement already satisfied: attrs>=17.3.0 in c:\\users\\pavel\\appdata\\local\\programs\\python\\python313\\lib\\site-packages (from aiohttp->datasets) (25.3.0)\n",
      "Requirement already satisfied: frozenlist>=1.1.1 in c:\\users\\pavel\\appdata\\local\\programs\\python\\python313\\lib\\site-packages (from aiohttp->datasets) (1.5.0)\n",
      "Requirement already satisfied: multidict<7.0,>=4.5 in c:\\users\\pavel\\appdata\\local\\programs\\python\\python313\\lib\\site-packages (from aiohttp->datasets) (6.4.3)\n",
      "Requirement already satisfied: propcache>=0.2.0 in c:\\users\\pavel\\appdata\\local\\programs\\python\\python313\\lib\\site-packages (from aiohttp->datasets) (0.3.1)\n",
      "Requirement already satisfied: yarl<2.0,>=1.17.0 in c:\\users\\pavel\\appdata\\local\\programs\\python\\python313\\lib\\site-packages (from aiohttp->datasets) (1.20.0)\n",
      "Requirement already satisfied: typing-extensions>=3.7.4.3 in c:\\users\\pavel\\appdata\\local\\programs\\python\\python313\\lib\\site-packages (from huggingface-hub<1.0,>=0.30.0->transformers) (4.12.2)\n",
      "Requirement already satisfied: charset-normalizer<4,>=2 in c:\\users\\pavel\\appdata\\local\\programs\\python\\python313\\lib\\site-packages (from requests->transformers) (3.4.1)\n",
      "Requirement already satisfied: idna<4,>=2.5 in c:\\users\\pavel\\appdata\\local\\programs\\python\\python313\\lib\\site-packages (from requests->transformers) (3.10)\n",
      "Requirement already satisfied: urllib3<3,>=1.21.1 in c:\\users\\pavel\\appdata\\local\\programs\\python\\python313\\lib\\site-packages (from requests->transformers) (2.3.0)\n",
      "Requirement already satisfied: certifi>=2017.4.17 in c:\\users\\pavel\\appdata\\local\\programs\\python\\python313\\lib\\site-packages (from requests->transformers) (2025.1.31)\n",
      "Requirement already satisfied: colorama in c:\\users\\pavel\\appdata\\local\\programs\\python\\python313\\lib\\site-packages (from tqdm>=4.27->transformers) (0.4.6)\n",
      "Requirement already satisfied: python-dateutil>=2.8.2 in c:\\users\\pavel\\appdata\\local\\programs\\python\\python313\\lib\\site-packages (from pandas->datasets) (2.9.0.post0)\n",
      "Requirement already satisfied: pytz>=2020.1 in c:\\users\\pavel\\appdata\\local\\programs\\python\\python313\\lib\\site-packages (from pandas->datasets) (2025.1)\n",
      "Requirement already satisfied: tzdata>=2022.7 in c:\\users\\pavel\\appdata\\local\\programs\\python\\python313\\lib\\site-packages (from pandas->datasets) (2025.1)\n",
      "Requirement already satisfied: six>=1.5 in c:\\users\\pavel\\appdata\\local\\programs\\python\\python313\\lib\\site-packages (from python-dateutil>=2.8.2->pandas->datasets) (1.17.0)\n",
      "Requirement already satisfied: biopython in c:\\users\\pavel\\appdata\\local\\programs\\python\\python313\\lib\\site-packages (1.85)\n",
      "Requirement already satisfied: requests in c:\\users\\pavel\\appdata\\local\\programs\\python\\python313\\lib\\site-packages (2.32.3)\n",
      "Requirement already satisfied: h5py in c:\\users\\pavel\\appdata\\local\\programs\\python\\python313\\lib\\site-packages (3.13.0)\n",
      "Requirement already satisfied: numpy in c:\\users\\pavel\\appdata\\local\\programs\\python\\python313\\lib\\site-packages (from biopython) (2.2.2)\n",
      "Requirement already satisfied: charset-normalizer<4,>=2 in c:\\users\\pavel\\appdata\\local\\programs\\python\\python313\\lib\\site-packages (from requests) (3.4.1)\n",
      "Requirement already satisfied: idna<4,>=2.5 in c:\\users\\pavel\\appdata\\local\\programs\\python\\python313\\lib\\site-packages (from requests) (3.10)\n",
      "Requirement already satisfied: urllib3<3,>=1.21.1 in c:\\users\\pavel\\appdata\\local\\programs\\python\\python313\\lib\\site-packages (from requests) (2.3.0)\n",
      "Requirement already satisfied: certifi>=2017.4.17 in c:\\users\\pavel\\appdata\\local\\programs\\python\\python313\\lib\\site-packages (from requests) (2025.1.31)\n",
      "Requirement already satisfied: jax in c:\\users\\pavel\\appdata\\local\\programs\\python\\python313\\lib\\site-packages (0.6.0)\n",
      "Requirement already satisfied: jaxlib<=0.6.0,>=0.6.0 in c:\\users\\pavel\\appdata\\local\\programs\\python\\python313\\lib\\site-packages (from jax) (0.6.0)\n",
      "Requirement already satisfied: ml_dtypes>=0.5.0 in c:\\users\\pavel\\appdata\\local\\programs\\python\\python313\\lib\\site-packages (from jax) (0.5.1)\n",
      "Requirement already satisfied: numpy>=1.25 in c:\\users\\pavel\\appdata\\local\\programs\\python\\python313\\lib\\site-packages (from jax) (2.2.2)\n",
      "Requirement already satisfied: opt_einsum in c:\\users\\pavel\\appdata\\local\\programs\\python\\python313\\lib\\site-packages (from jax) (3.4.0)\n",
      "Requirement already satisfied: scipy>=1.11.1 in c:\\users\\pavel\\appdata\\local\\programs\\python\\python313\\lib\\site-packages (from jax) (1.15.2)\n",
      "Requirement already satisfied: flax in c:\\users\\pavel\\appdata\\local\\programs\\python\\python313\\lib\\site-packages (0.10.5)\n",
      "Requirement already satisfied: numpy>=1.23.2 in c:\\users\\pavel\\appdata\\local\\programs\\python\\python313\\lib\\site-packages (from flax) (2.2.2)\n",
      "Requirement already satisfied: jax>=0.5.1 in c:\\users\\pavel\\appdata\\local\\programs\\python\\python313\\lib\\site-packages (from flax) (0.6.0)\n",
      "Requirement already satisfied: msgpack in c:\\users\\pavel\\appdata\\local\\programs\\python\\python313\\lib\\site-packages (from flax) (1.1.0)\n",
      "Requirement already satisfied: optax in c:\\users\\pavel\\appdata\\local\\programs\\python\\python313\\lib\\site-packages (from flax) (0.2.4)\n",
      "Requirement already satisfied: orbax-checkpoint in c:\\users\\pavel\\appdata\\local\\programs\\python\\python313\\lib\\site-packages (from flax) (0.11.12)\n",
      "Requirement already satisfied: tensorstore in c:\\users\\pavel\\appdata\\local\\programs\\python\\python313\\lib\\site-packages (from flax) (0.1.73)\n",
      "Requirement already satisfied: rich>=11.1 in c:\\users\\pavel\\appdata\\local\\programs\\python\\python313\\lib\\site-packages (from flax) (14.0.0)\n",
      "Requirement already satisfied: typing_extensions>=4.2 in c:\\users\\pavel\\appdata\\local\\programs\\python\\python313\\lib\\site-packages (from flax) (4.12.2)\n",
      "Requirement already satisfied: PyYAML>=5.4.1 in c:\\users\\pavel\\appdata\\local\\programs\\python\\python313\\lib\\site-packages (from flax) (6.0.2)\n",
      "Requirement already satisfied: treescope>=0.1.7 in c:\\users\\pavel\\appdata\\local\\programs\\python\\python313\\lib\\site-packages (from flax) (0.1.9)\n",
      "Requirement already satisfied: jaxlib<=0.6.0,>=0.6.0 in c:\\users\\pavel\\appdata\\local\\programs\\python\\python313\\lib\\site-packages (from jax>=0.5.1->flax) (0.6.0)\n",
      "Requirement already satisfied: ml_dtypes>=0.5.0 in c:\\users\\pavel\\appdata\\local\\programs\\python\\python313\\lib\\site-packages (from jax>=0.5.1->flax) (0.5.1)\n",
      "Requirement already satisfied: opt_einsum in c:\\users\\pavel\\appdata\\local\\programs\\python\\python313\\lib\\site-packages (from jax>=0.5.1->flax) (3.4.0)\n",
      "Requirement already satisfied: scipy>=1.11.1 in c:\\users\\pavel\\appdata\\local\\programs\\python\\python313\\lib\\site-packages (from jax>=0.5.1->flax) (1.15.2)\n",
      "Requirement already satisfied: markdown-it-py>=2.2.0 in c:\\users\\pavel\\appdata\\local\\programs\\python\\python313\\lib\\site-packages (from rich>=11.1->flax) (3.0.0)\n",
      "Requirement already satisfied: pygments<3.0.0,>=2.13.0 in c:\\users\\pavel\\appdata\\local\\programs\\python\\python313\\lib\\site-packages (from rich>=11.1->flax) (2.19.1)\n",
      "Requirement already satisfied: absl-py>=0.7.1 in c:\\users\\pavel\\appdata\\local\\programs\\python\\python313\\lib\\site-packages (from optax->flax) (2.2.2)\n",
      "Requirement already satisfied: chex>=0.1.87 in c:\\users\\pavel\\appdata\\local\\programs\\python\\python313\\lib\\site-packages (from optax->flax) (0.1.89)\n",
      "Requirement already satisfied: etils[epy] in c:\\users\\pavel\\appdata\\local\\programs\\python\\python313\\lib\\site-packages (from optax->flax) (1.12.2)\n",
      "Requirement already satisfied: nest_asyncio in c:\\users\\pavel\\appdata\\local\\programs\\python\\python313\\lib\\site-packages (from orbax-checkpoint->flax) (1.6.0)\n",
      "Requirement already satisfied: protobuf in c:\\users\\pavel\\appdata\\local\\programs\\python\\python313\\lib\\site-packages (from orbax-checkpoint->flax) (6.30.2)\n",
      "Requirement already satisfied: humanize in c:\\users\\pavel\\appdata\\local\\programs\\python\\python313\\lib\\site-packages (from orbax-checkpoint->flax) (4.12.2)\n",
      "Requirement already satisfied: simplejson>=3.16.0 in c:\\users\\pavel\\appdata\\local\\programs\\python\\python313\\lib\\site-packages (from orbax-checkpoint->flax) (3.20.1)\n",
      "Requirement already satisfied: setuptools in c:\\users\\pavel\\appdata\\local\\programs\\python\\python313\\lib\\site-packages (from chex>=0.1.87->optax->flax) (76.1.0)\n",
      "Requirement already satisfied: toolz>=0.9.0 in c:\\users\\pavel\\appdata\\local\\programs\\python\\python313\\lib\\site-packages (from chex>=0.1.87->optax->flax) (1.0.0)\n",
      "Requirement already satisfied: mdurl~=0.1 in c:\\users\\pavel\\appdata\\local\\programs\\python\\python313\\lib\\site-packages (from markdown-it-py>=2.2.0->rich>=11.1->flax) (0.1.2)\n",
      "Requirement already satisfied: fsspec in c:\\users\\pavel\\appdata\\local\\programs\\python\\python313\\lib\\site-packages (from etils[epath,epy]->orbax-checkpoint->flax) (2024.12.0)\n",
      "Requirement already satisfied: importlib_resources in c:\\users\\pavel\\appdata\\local\\programs\\python\\python313\\lib\\site-packages (from etils[epath,epy]->orbax-checkpoint->flax) (6.5.2)\n",
      "Requirement already satisfied: zipp in c:\\users\\pavel\\appdata\\local\\programs\\python\\python313\\lib\\site-packages (from etils[epath,epy]->orbax-checkpoint->flax) (3.21.0)\n"
     ]
    }
   ],
   "source": [
    "## Устанавливайте и импортируйте все необходимое, загружайте модели, загружайте данные.\n",
    "# @title Установите и импортируйте необходимые пакеты. (Запустите Cell)\n",
    "#%%capture\n",
    "\n",
    "# Установки.\n",
    "!pip install transformers datasets\n",
    "!pip install biopython requests h5py\n",
    "!pip install jax\n",
    "!pip install flax\n",
    "\n",
    "# Импорт.\n",
    "import os\n",
    "import random\n",
    "import tqdm\n",
    "\n",
    "import jax\n",
    "import jax.numpy as jnp\n",
    "from jax import grad, jit, vmap\n",
    "import flax.linen as nn\n",
    "import optax\n",
    "import torch\n",
    "\n",
    "\n",
    "import numpy as np\n",
    "import pandas as pd\n",
    "import h5py\n",
    "\n",
    "import matplotlib.pyplot as plt\n",
    "import seaborn as sns\n",
    "\n",
    "from Bio import Entrez, SeqIO\n",
    "\n",
    "from sklearn.manifold import TSNE\n",
    "\n",
    "from transformers import AutoTokenizer, AutoModelForMaskedLM\n",
    "\n",
    "\n",
    "# Скачайте языковую модель ДНК и токенизатор.\n",
    "tokenizer = AutoTokenizer.from_pretrained(\n",
    "    \"InstaDeepAI/nucleotide-transformer-v2-50m-multi-species\",\n",
    "    trust_remote_code=True)\n",
    "\n",
    "language_model = AutoModelForMaskedLM.from_pretrained(\n",
    "    \"InstaDeepAI/nucleotide-transformer-v2-50m-multi-species\",\n",
    "    trust_remote_code=True)\n",
    "\n",
    "# Загрузите предварительно извлеченные вложения для случайных строк ДНК.\n",
    "ROOT_DIR = \"https://raw.githubusercontent.com/deep-learning-indaba/indaba-pracs-2024/main/practicals/AI_for_Biology/data/\"\n",
    "\n",
    "import pandas as pd\n",
    "dna_sequences = pd.read_csv(os.path.join(ROOT_DIR, \"dna_sequences.csv\"))\n",
    "train_df = pd.read_feather(os.path.join(ROOT_DIR, \"train_embeddings.feather\"))\n",
    "valid_df = pd.read_feather(os.path.join(ROOT_DIR, \"valid_embeddings.feather\"))"
   ]
  },
  {
   "cell_type": "code",
   "execution_count": 91,
   "metadata": {
    "cellView": "form",
    "colab": {
     "base_uri": "https://localhost:8080/"
    },
    "id": "7Jh4BKgUcNHw",
    "outputId": "819cee06-a426-4ce8-f143-2ab0f87187b9"
   },
   "outputs": [
    {
     "name": "stdout",
     "output_type": "stream",
     "text": [
      "Found 1 JAX devices of type cpu.\n"
     ]
    }
   ],
   "source": [
    "# @title Проверяет TPU / графический процессор. (Run Cell)\n",
    "num_devices = jax.device_count()\n",
    "device_type = jax.devices()[0].device_kind\n",
    "\n",
    "print(f\"Found {num_devices} JAX devices of type {device_type}.\")"
   ]
  },
  {
   "cell_type": "markdown",
   "metadata": {
    "id": "PYna9Z1iZwuH"
   },
   "source": [
    "\n",
    "## 1. Применение ИИ в биологии\n",
    "\n",
    "ИИ становится все более распространенным явлением в биологической области, и в последнее время были достигнуты некоторые действительно захватывающие успехи. Тем не менее, отрасль все еще находится в самом начале своего развития – это означает, что предстоит проделать много интересной работы, и это отличное время для участия!\n",
    "\n",
    "Вот краткий обзор некоторых интересных недавних работ в области искусственного интеллекта в биологии в нескольких различных областях.\n"
   ]
  },
  {
   "cell_type": "markdown",
   "metadata": {
    "id": "s6EQ9z2D81Gi"
   },
   "source": [
    "### Медицинская диагностика\n",
    "\n",
    "Модеь классификации рака кожи, подобные этой, [от MIT](https://www.science.org/doi/10.1126/scitranslmed.abb3652) которая достигает результатов, сопоставимым с результатами сетрифицированных дерматологов:\n",
    "<div align=\"center\">\n",
    "    <img src=\"https://wp.technologyreview.com/wp-content/uploads/2021/06/automated-melanoma-detection-small2.gif?w=400\" alt=\"Automated Melanoma Detection GIF\">\n",
    "</div>\n",
    "\n",
    "\n",
    "Модель сегментации и классификации заболеваний сетчатки [от DeepMind](https://www.nature.com/articles/s41591-018-0107-6) способна диагностировать многие офтальмологические заболевания с помощью 3D-сканирования сетчатки. Ее производительность аналогична лучшим специалистам по сетчатке и превосходит некоторых экспертов-людей:\n",
    "\n",
    "\n",
    "<div align=\"center\">\n",
    "    <img src=\"https://miro.medium.com/v2/resize:fit:1400/format:webp/1*cnyoA2T8BFZRBYWnUlYEtQ.gif\" alt=\"Retinal scan segmentation gif\">\n",
    "</div>\n",
    "\n",
    "[Модель SynthSR из Гарварда и Калифорнийского университета в Лос-Анджелесе](https://www.science.org/doi/10.1126/sciadv.add3607) позволяет проводить клиническую МРТ головного мозга с любым контрастом, ориентацией и разрешением и преобразовывать их в 3D-изображения высокого разрешения:\n",
    "\n",
    "<div align=\"center\">\n",
    "    <img src=\"https://www.science.org/cms/10.1126/sciadv.add3607/asset/7a6c5ed9-af95-41d2-b888-2b5a653ea55b/assets/images/large/sciadv.add3607-f1.jpg\" alt=\"SynthSR MRI scan model\" width=\"400\">\n",
    "</div>\n"
   ]
  },
  {
   "cell_type": "markdown",
   "metadata": {
    "id": "KVYcazlUZ-vP"
   },
   "source": [
    "\n",
    "### Фармацевтика и разработка лекарственных средств\n",
    "\n",
    "[Компания Exscientia](https://www.exscientia.com/) разработала первый препарат с искусственным интеллектом, который прошел клинические испытания (DSP-1181, направлен на лечение обсессивно-компульсивного расстройства).\n",
    "\n",
    "Многие разработки лекарств с помощью искусственного интеллекта используют модели для прогнозирования того, насколько тесно небольшие молекулы будут связываться с различными участками белка-мишени, участвующего в данном заболевании:\n",
    "\n",
    "<div align=\"center\">\n",
    "    <img src=\"https://developer-blogs.nvidia.com/wp-content/uploads/2023/03/bionemo_featured.jpeg\" alt=\"general pocket showing\" width=\"400\">\n",
    "</div>\n",
    "\n",
    "\n",
    "[BenevolentAI](https://www.benevolent.com/about-us/sustainability/covid-19/) использовала искусственный интеллект для определения барицитиниба, первоначально препарата от артрита, в качестве потенциального средства лечения COVID-19 в течение 48 часов, используя свой график знаний.\n",
    "\n",
    "<div align=\"center\">\n",
    "    <img src=\"https://www.benevolent.com/application/files/6616/7458/5885/Corona_Baricitinib.png\" alt=\"BenevolentAI Baricitinib\" width=\"400\">\n",
    "</div>\n",
    "\n",
    "[Ссылка на видео на YouTube под названием \"BenevolentAI · AI-Enabled Drug Discovery\"(Открытие лекарств с поддержкой искусственного интеллекта)](https://www.youtube.com/watch?v=RPBDhogTIT0)\n",
    "\n",
    "[Recursion Pharmaceuticals](https://www.recursion.com/) известна высокопроизводительным скринингом и оптимизацией и разработала передовые модели визуализации клеток:\n",
    "\n",
    "<div align=\"center\">\n",
    "    <img src=\"https://miro.medium.com/v2/resize:fit:1400/0*yVLwEtfojWdnMZfA\" alt=\"Recursion\" width=\"800\">\n",
    "</div>\n",
    "\n",
    "\n",
    "Они обучают модели предсказывать пропущенные пиксели в изображениях ячеек аналогично тому, как большие языковые модели предсказывают пропущенные или замаскированные слова в предложениях:\n",
    "\n",
    "<div align=\"center\">\n",
    "    <img src=\"https://blogs.nvidia.com/wp-content/uploads/2024/05/Recursion-Phenom-AI-model-animation.gif\" alt=\"Recursion\" width=\"800\">\n",
    "</div>\n",
    "\n",
    "Другие стартапы, занимающиеся глубоким обучением для открытия лекарств, включают Atomwise, insitro, Insilico Medicine, Deep Genomics и Deepcell.\n",
    "\n",
    "Кроме того, крупные фармацевтические компании, такие как Illumina, GSK и Genentech, создали внутренние команды глубокого обучения и разработали влиятельные модели, такие как [SpliceAI](https://www.cell.com/cell/pdf/S0092-8674(18)31629-5.pdf)  (модель, которая понимает сплайсинг) и [PrimateAI](https://www.ncbi.nlm.nih.gov/pmc/articles/PMC6237276/) (модель, которая предсказывает клинический эффект мутаций в белках), демонстрируя растущую интеграцию глубокого обучения в рабочие процессы биологии.\n"
   ]
  },
  {
   "cell_type": "markdown",
   "metadata": {
    "id": "wjN3f4S4aIPg"
   },
   "source": [
    "\n",
    "### Молекулярная биология\n",
    "\n",
    "Модель [AlphaFold model by DeepMind](https://www.nature.com/articles/s41586-021-03819-2) от DeepMind произвела революцию в области прогнозирования структуры белка, получив широкое распространение и признание в научных кругах, биотехнологической и фармацевтической промышленности:\n",
    "\n",
    "<div align=\"center\">\n",
    "    <img src=\"https://spectrum.ieee.org/media-library/two-examples-of-protein-targets-in-the-free-modelling-category-in-green-is-the-experimental-result-in-blue-is-the-computationa.gif?id=25559695&width=2400&height=1358\" alt=\"AlphaFold predictions\" width=\"800\">\n",
    "</div>\n",
    "\n",
    "Исследователи из [EvolutionaryScale](https://www.evolutionaryscale.ai/blog/esm3-release) использовали свою модель ESM3 protein language для разработки нового флуоресцентного белка, который совершенно отличается от флуоресцентных белков, встречающихся в природе:\n",
    "\n",
    "<div align=\"center\">\n",
    "    <img src=\"https://cdn.prod.website-files.com/6606dc3fd5f6645318003e20/667a5bb780d0ada7dc37d1c0_image%20(1).png\" alt=\"ESM3\" width=\"400\">\n",
    "</div>\n",
    "\n"
   ]
  },
  {
   "cell_type": "markdown",
   "metadata": {
    "id": "balHN65uaPS-"
   },
   "source": [
    "\n",
    "### Экология и охрана природы\n",
    "\n",
    "[Rainforest Connection (RFCx)](https://rfcx.org/)  - это инновационный проект, который размещает модифицированные смартфоны на деревьях, записывает аудио, а затем использует модели для идентификации различных видов, присутствующих в этом районе. Это помогает отслеживать биоразнообразие и выявлять незаконные действия, такие как лесозаготовки, в режиме реального времени.\n",
    "\n",
    "<div align=\"center\">\n",
    "    <img src=\"https://www.huawei.com/~/media/CORPORATE/Images/case-studies/case1/photo-grid.jpg\" alt=\"Rainforest connection setup\" width=\"600\">\n",
    "</div>\n",
    "\n",
    "<div align=\"center\">\n",
    "    <img src=\"https://cdn.ttgtmedia.com/visuals/LeMagIT/Forest1.png\" alt=\"Rainforest connection audio\" width=\"600\">\n",
    "</div>\n",
    "\n",
    "\n",
    "[Проект CETI](https://www.projectceti.org/) (Инициатива по переводу китообразных) использует искусственный интеллект для анализа и декодирования звуков китов, чтобы понять их общение и поведение.\n",
    "\n",
    "<div align=\"center\">\n",
    "    <img src=\"https://i0.wp.com/www.josephdelpreto.com/wp-content/uploads/2023/09/Project-CETI_s-Approach-_-Illustration-%C2%A9-2023-Alex-Boersma.jpg?resize=1024%2C912\" alt=\"CETI whale\" width=\"600\">\n",
    "</div>\n",
    "\n",
    "\n",
    "В конкурсе Zindi под названием [Turtle Recall](https://zindi.africa/competitions/turtle-recall-conservation-challenge) пользователям предлагалось создать модель, которая могла бы идентифицировать отдельных морских черепах по рисункам чешуи на их головах, что могло бы помочь улучшить навыки общения с морскими черепахами:\n",
    "\n",
    "<div align=\"center\">\n",
    "    <img src=\"https://lh3.googleusercontent.com/9J6DZgiuGyYr3N1DoJBmZMVpBkTlGOq19QUws7G2fbFcuHeIJKQ3plFh-R2xkxB1OpVaqZhcglM6hWWl5x7PuuxbtnDlIWlCgoCr0LGVM4S-loaj_Jc=w1232-rw\" alt=\"Turtle recall\" width=\"600\">\n",
    "</div>\n",
    "\n"
   ]
  },
  {
   "cell_type": "markdown",
   "metadata": {
    "id": "Q61C7IWMs5Up"
   },
   "source": [
    "### **Вопрос**: \n",
    "Какая из этих областей применения искусственного интеллекта в биологии кажется вам наиболее интересной?\n",
    "1. 🏥 **Медицинская диагностика** 🏥\n",
    "2. 💊 **Фармацевтической и разработке лекарств** 💊\n",
    "3. 🧬 **Молекулярная Биология** 🧬\n",
    "4. 🌳 **Экологии и охраны природы** 🌳\n",
    "5. **Другое** (какое? :)"
   ]
  },
  {
   "cell_type": "markdown",
   "metadata": {},
   "source": [
    "Учттывая мою специализацию, предположительно, молекулярка:)"
   ]
  },
  {
   "cell_type": "markdown",
   "metadata": {},
   "source": [
    "### **Вопрос**: \n",
    "о какой еще интересной работе в области искусственного интеллекта в биологии вы знаете?"
   ]
  },
  {
   "cell_type": "markdown",
   "metadata": {},
   "source": [
    "Поиск ро зависимых терминаторов в бактериальных геномных последовательнастях:))"
   ]
  },
  {
   "cell_type": "markdown",
   "metadata": {
    "id": "uekgwzRTabu_"
   },
   "source": [
    "### Дополнительная справочная информация\n",
    "\n",
    "Эти примеры не являются исчерпывающими и приведены лишь для того, чтобы дать вам представление о некоторых современных приложениях искусственного интеллекта в биологии. Если вы хотите узнать больше об этой области, вот несколько интересных ресурсов для чтения:\n",
    "\n",
    "- *Nature Communications* обзор 2022 года под названием [\"Current progress and open challenges for applying deep learning across the biosciences\"](https://www.nature.com/articles/s41467-022-29268-7)\n",
    "- Немного более старая (2018) обзорная статья под названием [“Opportunities and obstacles for deep learning in biology and medicine”](https://royalsocietypublishing.org/doi/10.1098/rsif.2017.0387). Это число достигло более 2000 цитирований!\n",
    "- [\"Deep Learning for the Life Sciences\"](https://www.oreilly.com/library/view/deep-learning-for/9781492039822/) 2019 O'Reilly книга, в которой излагаются практические идеи и приложения глубокого обучения в геномике, химии и биоинформатике.\n",
    "\n",
    "\n",
    "\n",
    "\n",
    "\n",
    "\n",
    "\n"
   ]
  },
  {
   "cell_type": "markdown",
   "metadata": {
    "id": "g3U85xKMaf4f"
   },
   "source": [
    "## 2. Введение в ДНК\n"
   ]
  },
  {
   "cell_type": "markdown",
   "metadata": {
    "id": "ZsoawR4YWZuu"
   },
   "source": [
    "Мы надеемся, что этого введения было достаточно, чтобы вы заинтересовались приложениями глубокого обучения в биологии! В оставшейся части этого практического занятия давайте сами поработаем над ИИ в биологии по теме **ДНК**."
   ]
  },
  {
   "cell_type": "markdown",
   "metadata": {
    "id": "wPg62NUYVCYx"
   },
   "source": [
    "<div align=\"center\">\n",
    "    <img src=\"https://i.pinimg.com/originals/c7/90/76/c79076215950e968828f663e1b69fe67.gif\" alt=\"DNA gif\" width=\"200\">\n",
    "</div>\n"
   ]
  },
  {
   "cell_type": "markdown",
   "metadata": {
    "id": "s-2h_qSbbCVb"
   },
   "source": [
    "**ДНК - это молекула наследственности, основа всей жизни в том виде, в каком мы ее знаем**.\n",
    "\n",
    "Впервые его структура была обнаружена в 1953 году, что стало поворотным моментом в биологических науках. Первый проект генома человека был опубликован в 2001 году, заложив основу для современной геномики.\n",
    "\n",
    "Но эти даты совсем недавние, и хотя теперь мы знаем кое-что из \"чего\" генома, мы очень далеки от понимания того, \"как\" он на самом деле функционирует.\n",
    "\n",
    "Например, мы знаем, что ДНК состоит из 4 разных \"букв\", а именно A (аденин), C (цитозин), G (гуанин) и T (тимин), и что геном человека состоит из 3,2 миллиарда букв, которые распределены по 23 парам хромосом. ДНК упаковывается различными способами, чтобы вписаться в клеточное ядро:\n",
    "\n",
    "<div align=\"center\">\n",
    "    <img src=\"https://miro.medium.com/v2/resize:fit:1400/1*EUKrGpPzUAwp2sOOPZOcqA.jpeg\" alt=\"DNA text\" width=\"400\">\n",
    "</div>\n",
    "\n",
    "Если бы мы открыли \"книгу\" генома человека, то увидели бы что-то вроде этого:\n",
    "\n",
    "<div align=\"center\">\n",
    "    <img src=\"https://cms.wellcome.org/sites/default/files/styles/image_full_hi/public/WI_C0035768_GenomeEditing_20150902_News_600x600.jpg?itok=FCedpedU\" alt=\"DNA text\" width=\"400\">\n",
    "</div>\n",
    "\n",
    "**Это может быть очень трудно интерпретировать**. И есть много ДНК для интерпретации – их достаточно, чтобы заполнить книжный шкаф, если напечатать их на разных томах:\n",
    "\n",
    "<div align=\"center\">\n",
    "    <img src=\"https://live.staticflickr.com/3265/2569126918_b68047a65b_b.jpg\" alt=\"DNA bookcase\" width=\"400\">\n",
    "</div>\n",
    "\n",
    "\n",
    "Вот некоторые из основных открытых вопросов, которые у нас есть о ДНК::\n",
    "- Что делают 3,2 миллиарда букв в геноме человека? Все ли они биологически функциональны?\n",
    "- Как каждая клетка в организме человека может иметь абсолютно одинаковый геном, но выполнять совершенно разные функции? Например, подумайте о том, насколько нейрон отличается от мышечной клетки.\n",
    "- Мы знаем, что только приблизительно 2% ДНК в геноме кодирует белки, что делают остальные 98%?\n",
    "- Как генетические вариации приводят к заболеваниям или к различиям, которые мы наблюдаем между людьми?\n",
    "\n",
    "Подводя итог:\n",
    "\n",
    "***\"Геном человека\" можно рассматривать как очень длинную книгу, слова в которой состоят из букв A, T, C и G. Модели глубокого обучения открывают большие перспективы для понимания генома благодаря их способности улавливать сигнал в больших, сложных и потенциально зашумленных данных.***"
   ]
  },
  {
   "cell_type": "markdown",
   "metadata": {
    "id": "FUZs124vaoAc"
   },
   "source": [
    "## Языковые модели ДНК"
   ]
  },
  {
   "cell_type": "markdown",
   "metadata": {
    "id": "p1XSYCABa1pV"
   },
   "source": [
    "**Языковые модели ДНК (LMS)** очень похожи на большие языковые модели, с которыми вы, возможно, знакомы, такие как ChatGPT, Gemini, Claude и др. Вместо обучения на больших объемах текста на естественном языке, ДНК-фильмы обучаются на больших объемах последовательностей ДНК.\n",
    "\n",
    "Как многие LLM, так и LM ДНК обучаются случайным образом **маскируя** некоторые токены в тексте, а затем заставляя модель предсказать, что это за токен:\n",
    "\n",
    "<div align=\"center\">\n",
    "<a href=\"https://ibb.co/M9d9GM0\"><img src=\"https://i.ibb.co/25J5sg4/Screenshot-2024-07-23-at-22-18-57.png\" alt=\"Screenshot-2024-07-23-at-22-18-57\" width=\"800\" border=\"0\"></a>\n",
    "</div>\n",
    "\n",
    "Точно так же, как магистры права изучают язык, который затем может быть полезен для многих последующих задач, \n",
    "Языковые модели ДНК могут улавливать сложные паттерны и структуры внутри ДНК, что делает их ценными для различных последующих геномных задач, таких как анализ мутаций и понимание регуляторных элементов.:"
   ]
  },
  {
   "cell_type": "markdown",
   "metadata": {
    "id": "-5nhVXVvQfsb"
   },
   "source": [
    "## Некоторые популярные модели языка ДНК\n",
    "\n",
    "По мере того, как программы LLM становятся все более успешными, все больше и больше людей проявляют интерес к обучению моделям языка ДНК. Вот некоторые из наиболее известных:\n",
    "\n",
    "- [DNABERT](https://academic.oup.com/bioinformatics/article/37/15/2112/6128680) (2021) - DNABERT адаптирует модель BERT, которая была весьма успешной в НЛП, для понимания последовательностей ДНК.\n",
    "- [HyenaDNA](https://arxiv.org/abs/2306.15794) (2023) - Специализируется на длинных последовательностях ДНК, с контекстной длиной до 1 миллиона маркеров на уровне одного нуклеотида.\n",
    "- [Nucleotide Transformer](https://www.biorxiv.org/content/10.1101/2023.01.11.523679v1) (2023) - архитектура на основе трансформатора, специально разработанная для нуклеотидных последовательностей.\n",
    "\n",
    "Некоторые люди также доработали существующие LLM на естественном языке для последовательностей ДНК, например [Mistral-DNA](https://github.com/raphaelmourad/Mistral-DNA).\n",
    "\n",
    "Для практического применения мы будем использовать модель Nucleotide Transformer\n",
    "(NT), потому что она довольно хороша, популярна и легко доступна на [Hugging Face platform 🤗](https://huggingface.co/).\n",
    "\n"
   ]
  },
  {
   "cell_type": "markdown",
   "metadata": {
    "id": "oi3kRTr4cFVv"
   },
   "source": [
    "## Модель нуклеотидного трансформатора (NT)"
   ]
  },
  {
   "cell_type": "markdown",
   "metadata": {
    "id": "mI4e0ondcGzl"
   },
   "source": [
    "Nucleotide Transformer был обучен на 3202 различных геномах человека, а также на 850 геномах широкого спектра видов.Модель генерирует переносимые, зависящие от контекста представления последовательностей ДНК.\n",
    "\n",
    "Еще несколько деталей о модели:\n",
    "- NT - это архитектура преобразования только для кодировщика, обученная с использованием подхода BERT (маскирование частей последовательностей ДНК). Последовательности ДНК были помечены как 6-mers.\n",
    "- Это неконтролируемая модель, но только ее представления соответствуют или превосходят специализированные методы в 11 из 18 задач прогнозирования, таких как предсказание того, содержит ли данный фрагмент ДНК определенные регуляторные элементы, известные как промоторы и энхансеры.\n",
    "- Обучающие данные для версии NT `nucleotide-transformer-v2-50m-multi-species` были обучены в общей сложности на ** 174B нуклеотидах **, то есть примерно на **29B токенах**. Вот статистика для каждой группы организмов:\n",
    "\n",
    "| Class                | Number of species  | Number of nucleotides (B) |\n",
    "| ---------------------| -------------------| --------------------------|\n",
    "| Bacteria             | 667                | 17.1                      |\n",
    "| Fungi                | 46                 | 2.3                       |\n",
    "| Invertebrate         | 39                 | 20.8                      |\n",
    "| Protozoa             | 10                 | 0.5                       |\n",
    "| Mammalian Vertebrate | 31                 | 69.8                      |\n",
    "| Other Vertebrate     | 57                 | 63.4                      |\n",
    "\n",
    "Доступны и другие, увеличенные версии модели Hugging Face [здесь](https://huggingface.co/collections/InstaDeepAI/nucleotide-transformer-65099cdde13ff96230f2e592). Мы используем здесь относительно небольшую модель по соображениям скорости."
   ]
  },
  {
   "cell_type": "markdown",
   "metadata": {
    "id": "qfpDwu0mbC2U"
   },
   "source": [
    "## Изучение встраивания ДНК у разных видов"
   ]
  },
  {
   "cell_type": "markdown",
   "metadata": {
    "id": "4SvGZ0yAUEor"
   },
   "source": [
    "Давайте загрузим модель Nucleotide Transformer (NT) из HuggingFace и начнем с ней играть!\n",
    "\n",
    "Мы уже загрузили токенизатор и модель в первую ячейку блокнота. Это и есть эти два объекта:"
   ]
  },
  {
   "cell_type": "code",
   "execution_count": 92,
   "metadata": {
    "colab": {
     "base_uri": "https://localhost:8080/",
     "height": 329
    },
    "id": "6hisjeBWMhQr",
    "outputId": "f3fb1972-a217-4167-c8b6-99af7dba0f1c"
   },
   "outputs": [
    {
     "data": {
      "text/plain": [
       "transformers.models.esm.tokenization_esm.EsmTokenizer"
      ]
     },
     "execution_count": 92,
     "metadata": {},
     "output_type": "execute_result"
    }
   ],
   "source": [
    "type(tokenizer)"
   ]
  },
  {
   "cell_type": "code",
   "execution_count": 93,
   "metadata": {
    "colab": {
     "base_uri": "https://localhost:8080/",
     "height": 203
    },
    "id": "y3Pc0E_lMjk_",
    "outputId": "0877d2af-d7fc-4faf-ca66-4933688477d4"
   },
   "outputs": [
    {
     "data": {
      "text/plain": [
       "transformers_modules.InstaDeepAI.nucleotide-transformer-v2-50m-multi-species.ebe8e9ea00908a1e5a8f289d47d95bb09aac9f19.modeling_esm.EsmForMaskedLM"
      ]
     },
     "execution_count": 93,
     "metadata": {},
     "output_type": "execute_result"
    }
   ],
   "source": [
    "type(language_model)"
   ]
  },
  {
   "cell_type": "markdown",
   "metadata": {
    "id": "Wlhntuz2FKOT"
   },
   "source": [
    "\n",
    "Давайте посмотрим, что эта модель узнала о ДНК разных видов. Мы можем взять случайные последовательности ДНК из разных видов, использовать модель для извлечения **встроенного** представления ДНК и посмотреть, имеют ли сходные виды тенденцию иметь ДНК с похожими представлениями.\n",
    "\n",
    "Давайте составим список представляющих интерес видов:"
   ]
  },
  {
   "cell_type": "code",
   "execution_count": 94,
   "metadata": {
    "colab": {
     "base_uri": "https://localhost:8080/"
    },
    "id": "PVw2zyrjuAJ7",
    "outputId": "0409f79b-6d91-4ba8-f9bc-5e2d070f23bf"
   },
   "outputs": [
    {
     "name": "stdout",
     "output_type": "stream",
     "text": [
      "10\n"
     ]
    }
   ],
   "source": [
    "organisms = [\n",
    "    'Homo sapiens',  # Human\n",
    "    'Pan troglodytes',  # Chimpanzee\n",
    "    'Pan paniscus',     # Bonobo\n",
    "    'Gorilla gorilla',  # Gorilla\n",
    "    'Tursiops truncatus',  # Dolphin (bottlenose)\n",
    "    'Hydrochoerus hydrochaeris',  # Capybara\n",
    "    'Escherichia coli',  # E. coli bacteria\n",
    "    'Lactobacillus acidophilus',  # Common probiotic bacterium\n",
    "    'Salmonella enterica',  # Common foodborne pathogen\n",
    "    'Pseudomonas aeruginosa',  # Bacterium found in soil and water\n",
    "]\n",
    "\n",
    "print(len(organisms))"
   ]
  },
  {
   "cell_type": "markdown",
   "metadata": {
    "id": "qgTtxzq_V333"
   },
   "source": [
    "Мы можем использовать Entrez Библиотеку Python для выполнения поиска в базе данных случайной строки ДНК для данного организма:"
   ]
  },
  {
   "cell_type": "code",
   "execution_count": 95,
   "metadata": {
    "colab": {
     "base_uri": "https://localhost:8080/"
    },
    "id": "v884-yBoV81G",
    "outputId": "0b150e7b-8514-4d15-c8c7-16a0541427ae"
   },
   "outputs": [
    {
     "name": "stdout",
     "output_type": "stream",
     "text": [
      "ID: NM_001408451.1\n",
      "Name: NM_001408451.1\n",
      "Description: NM_001408451.1 Homo sapiens BRCA1 DNA repair associated (BRCA1), transcript variant 310, mRNA\n",
      "Number of features: 0\n",
      "Seq('GCTGAGACTTCCTGGACGGGGGACAGGCTGTGGGGTTTCTCAGATAACTGGGCC...CCA')\n",
      "Поиск завершён\n"
     ]
    }
   ],
   "source": [
    "import os\n",
    "#___________________________________________________________________________________ ПРЕДУПРЕЖДЕНИЕ, ТУТ Я ОТКЛЮЧИЛ ВСЮ БЕЗОПАСНОСТЬ СОЕДИНЕНИЯ\n",
    "# Отключаем проверку HTTPS на уровне интерпретатора.\n",
    "os.environ['PYTHONHTTPSVERIFY'] = '0'\n",
    "\n",
    "import ssl\n",
    "import urllib.request\n",
    "\n",
    "# Создаем контекст с отключенной проверкой сертификатов.\n",
    "ssl_context = ssl._create_unverified_context()\n",
    "# Создаем HTTPSHandler с нашим контекстом.\n",
    "https_handler = urllib.request.HTTPSHandler(context=ssl_context)\n",
    "# Собираем новый opener и регистрируем его как глобальный.\n",
    "opener = urllib.request.build_opener(https_handler)\n",
    "urllib.request.install_opener(opener)\n",
    "\n",
    "from Bio import Entrez, SeqIO\n",
    "\n",
    "# Задаем контекст для Entrez.\n",
    "Entrez.ssl_context = ssl_context\n",
    "#___________________________________________________________________________________\n",
    "organism = 'Homo sapiens'\n",
    "gene = 'BRCA1'  # Пример названия гена.\n",
    "Entrez.email = \"pavel.bulyha@gmail.com\"\n",
    "\n",
    "# Формируем запрос к базе данных.\n",
    "query = f'({gene}[Gene Name]) AND {organism}[Organism] AND \"RefSeq\"[filter]'\n",
    "\n",
    "# Выполняем поиск записей.\n",
    "handle = Entrez.esearch(db='nucleotide', term=query, retmax=10)\n",
    "record = Entrez.read(handle)\n",
    "handle.close()\n",
    "\n",
    "# Выбираем случайную запись.\n",
    "np.random.seed(42)\n",
    "random_record_id = np.random.choice(record['IdList'])\n",
    "\n",
    "# Получаем последовательность из выбранной записи.\n",
    "handle = Entrez.efetch(\n",
    "    db='nucleotide', \n",
    "    id=random_record_id, \n",
    "    rettype='fasta', \n",
    "    retmode='text'\n",
    ")\n",
    "seq_record = SeqIO.read(handle, 'fasta')\n",
    "handle.close()\n",
    "\n",
    "print(seq_record)\n",
    "print(\"Поиск завершён\")\n"
   ]
  },
  {
   "cell_type": "markdown",
   "metadata": {
    "id": "2c9OD88UWcbD"
   },
   "source": [
    "Мы можем легко извлечь цепочку ДНК из этой записи:"
   ]
  },
  {
   "cell_type": "code",
   "execution_count": 96,
   "metadata": {
    "colab": {
     "base_uri": "https://localhost:8080/",
     "height": 157
    },
    "id": "NE3WVQZAWUzo",
    "outputId": "65592e5a-d1fb-4f02-c6b3-ab5e04990905"
   },
   "outputs": [
    {
     "data": {
      "text/plain": [
       "'GCTGAGACTTCCTGGACGGGGGACAGGCTGTGGGGTTTCTCAGATAACTGGGCCCCTGCGCTCAGGAGGCCTTCACCCTCTGCTCTGGTTCATTGGAACAGAAAGAAATGGATTTATCTGCTCTTCGCGTTGAAGAAGTACAAAATGTCATTAATGCTATGCAGAAAATCTTAGAGTGTCCCATCTGGAGCCTACAAGAAAGTACGAGATTTAGTCAACTTGTTGAAGAGCTATTGAAAATCATTTGTGCTTTTCAGCTTGACACAGGTTTGGAGTATGCAAACAGCTATAATTTTGCAAAAAAGGAAAATAACTCTCCTGAACATCTAAAAGATGAAGTTTCTATCATCCAAAGTATGGGCTACAGAAACCGTGCCAAAAGACTTCTACAGAGTGAACCCGAAAATCCTTCCTTGGAAACCAGTCTCAGTGTCCAACTCTCTAACCTTGGAACTGTGAGAACTCTGAGGACAAAGCAGCGGATACAACCTCAAAAGACGTCTGTCTACATTGAATTGGGATCTGATTCTTCTGAAGATACCGTTAATAAGGCAACTTATTGCAGTGTGGGAGATCAAGAATTGTTACAAATCACCCCTCAAGGAACCAGGGATGAAATCAGTTTGGATTCTGCAAAAAAGGCTGCTTGTGAATTTTCTGAGACGGATGTAACAAATACTGAACATCATCAACCCAGTAATAATGATTTGAACACCACTGAGAAGCGTGCAGCTGAGAGGCATCCAGAAAAGTATCAGGGTGAAGCAGCATCTGGGTGTGAGAGTGAAACAAGCGTCTCTGAAGACTGCTCAGGGCTATCCTCTCAGAGTGACATTTTAACCACTCAGCAGAGGGATACCATGCAACATAACCTGATAAAGCTCCAGCAGGAAATGGCTGAACTAGAAGCTGTGTTAGAACAGCATGGGAGCCAGCCTTCTAACAGCTACCCTTCCATCATAAGTGACTCTTCTGCCCTTGAGGACCTGCGAAATCCAGAACAAAGCACATCAGAAAAAGCAGTATTAACTTCACAGAAAAGTAGTGAATACCCTATAAGCCAGAATCCAGAAGGCCTTTCTGCTGACAAGTTTGAGGTGTCTGCAGATAGTTCTACCAGTAAAAATAAAGAACCAGGAGTGGAAAGGTCATCCCCTTCTAAATGCCCATCATTAGATGATAGGTGGTACATGCACAGTTGCTCTGGGAGTCTTCAGAATAGAAACTACCCATCTCAAGAGGAGCTCATTAAGGTTGTTGATGTGGAGGAGCAACAGCTGGAAGAGTCTGGGCCACACGATTTGACGGAAACATCTTACTTGCCAAGGCAAGATCTAGAGGGAACCCCTTACCTGGAATCTGGAATCAGCCTCTTCTCTGATGACCCTGAATCTGATCCTTCTGAAGACAGAGCCCCAGAGTCAGCTCGTGTTGGCAACATACCATCTTCAACCTCTGCATTGAAAGTTCCCCAATTGAAAGTTGCAGAATCTGCCCAGAGTCCAGCTGCTGCTCATACTACTGATACTGCTGGGTATAATGCAATGGAAGAAAGTGTGAGCAGGGAGAAGCCAGAATTGACAGCTTCAACAGAAAGGGTCAACAAAAGAATGTCCATGGTGGTGTCTGGCCTGACCCCAGAAGAATTTATGCTCGTGTACAAGTTTGCCAGAAAACACCACATCACTTTAACTAATCTAATTACTGAAGAGACTACTCATGTTGTTATGAAAACAGATGCTGAGTTTGTGTGTGAACGGACACTGAAATATTTTCTAGGAATTGCGGGAGGAAAATGGGTAGTTAGCTATTTCTGGGTGACCCAGTCTATTAAAGAAAGAAAAATGCTGAATGAGCATGATTTTGAAGTCAGAGGAGATGTGGTCAATGGAAGAAACCACCAAGGTCCAAAGCGAGCAAGAGAATCCCAGGACAGAAAGATCTTCAGGGGGCTAGAAATCTGTTGCTATGGGCCCTTCACCAACATGCCCACAGATCAACTGGAATGGATGGTACAGCTGTGTGGTGCTTCTGTGGTGAAGGAGCTTTCATCATTCACCCTTGGCACAGGTGTCCACCCAATTGTGGTTGTGCAGCCAGATGCCTGGACAGAGGACAATGGCTTCCATGCAATTGGGCAGATGTGTGAGGCACCTGTGGTGACCCGAGAGTGGGTGTTGGACAGTGTAGCACTCTACCAGTGCCAGGAGCTGGACACCTACCTGATACCCCAGATCCCCCACAGCCACTACTGACTGCAGCCAGCCACAGGTACAGAGCCACAGGACCCCAAGAATGAGCTTACAAAGTGGCCTTTCCAGGCCCTGGGAGCTCCTCTCACTCTTCAGTCCTTCTACTGTCCTGGCTACTAAATATTTTATGTACATCAGCCTGAAAAGGACTTCTGGCTATGCAAGGGTCCCTTAAAGATTTTCTGCTTGAAGTCTCCCTTGGAAATCTGCCATGAGCACAAAATTATGGTAATTTTTCACCTGAGAAGATTTTAAAACCATTTAAACGCCACCAATTGAGCAAGATGCTGATTCATTATTTATCAGCCCTATTCTTTCTATTCAGGCTGTTGTTGGCTTAGGGCTGGAAGCACAGAGTGGCTTGGCCTCAAGAGAATAGCTGGTTTCCCTAAGTTTACTTCTCTAAAACCCTGTGTTCACAAAGGCAGAGAGTCAGACCCTTCAATGGAAGGAGAGTGCTTGGGATCGATTATGTGACTTAAAGTCAGAATAGTCCTTGGGCAGTTCTCAAATGTTGGAGTGGAACATTGGGGAGGAAATTCTGAGGCAGGTATTAGAAATGAAAAGGAAACTTGAAACCTGGGCATGGTGGCTCACGCCTGTAATCCCAGCACTTTGGGAGGCCAAGGTGGGCAGATCACTGGAGGTCAGGAGTTCGAAACCAGCCTGGCCAACATGGTGAAACCCCATCTCTACTAAAAATACAGAAATTAGCCGGTCATGGTGGTGGACACCTGTAATCCCAGCTACTCAGGTGGCTAAGGCAGGAGAATCACTTCAGCCCGGGAGGTGGAGGTTGCAGTGAGCCAAGATCATACCACGGCACTCCAGCCTGGGTGACAGTGAGACTGTGGCTCAAAAAAAAAAAAAAAAAAAGGAAAATGAAACTAGAAGAGATTTCTAAAAGTCTGAGATATATTTGCTAGATTTCTAAAGAATGTGTTCTAAAACAGCAGAAGATTTTCAAGAACCGGTTTCCAAAGACAGTCTTCTAATTCCTCATTAGTAATAAGTAAAATGTTTATTGTTGTAGCTCTGGTATATAATCCATTCCTCTTAAAATATAAGACCTCTGGCATGAATATTTCATATCTATAAAATGACAGATCCCACCAGGAAGGAAGCTGTTGCTTTCTTTGAGGTGATTTTTTTCCTTTGCTCCCTGTTGCTGAAACCATACAGCTTCATAAATAATTTTGCTTGCTGAAGGAAGAAAAAGTGTTTTTCATAAACCCATTATCCAGGACTGTTTATAGCTGTTGGAAGGACTAGGTCTTCCCTAGCCCCCCCAGTGTGCAAGGGCAGTGAAGACTTGATTGTACAAAATACGTTTTGTAAATGTTGTGCTGTTAACACTGCAAATAAACTTGGTAGCAAACACTTCCA'"
      ]
     },
     "execution_count": 96,
     "metadata": {},
     "output_type": "execute_result"
    }
   ],
   "source": [
    "dna_sequence = str(seq_record.seq)\n",
    "dna_sequence"
   ]
  },
  {
   "cell_type": "markdown",
   "metadata": {
    "id": "irKR4ijrXPeV"
   },
   "source": [
    "Модель NT может быть использована для вычисления числового представления значения этой строки ДНК. Мы просто передадим строку ДНК в качестве входных данных, обозначим ее и извлекем окончательные активации скрытого слоя из модели:"
   ]
  },
  {
   "cell_type": "code",
   "execution_count": 100,
   "metadata": {
    "colab": {
     "base_uri": "https://localhost:8080/"
    },
    "id": "91-IP-4CXd4Z",
    "outputId": "d5211cd3-d1a0-4d26-eea6-4600dca7b9df"
   },
   "outputs": [
    {
     "data": {
      "text/plain": [
       "tensor([[   3, 3705,  608,  ...,    1,    1,    1]])"
      ]
     },
     "execution_count": 100,
     "metadata": {},
     "output_type": "execute_result"
    }
   ],
   "source": [
    "# Tokenize the DNA sequence.\n",
    "max_length = tokenizer.model_max_length\n",
    "\n",
    "token_ids = tokenizer.batch_encode_plus(\n",
    "  [dna_sequence], return_tensors='pt',\n",
    "  padding='max_length', max_length=max_length,\n",
    "  truncation=True)['input_ids']\n",
    "\n",
    "token_ids"
   ]
  },
  {
   "cell_type": "markdown",
   "metadata": {
    "id": "lIPxAnTKYi_j"
   },
   "source": [
    "Вы можете видеть, что последовательность ДНК была маркирована и дополнена символом `1` до максимальной длины 2048:"
   ]
  },
  {
   "cell_type": "code",
   "execution_count": 101,
   "metadata": {
    "colab": {
     "base_uri": "https://localhost:8080/"
    },
    "id": "QkbnezMnYd03",
    "outputId": "2c7cd1ab-8090-4de2-f0f9-6164591c1472"
   },
   "outputs": [
    {
     "data": {
      "text/plain": [
       "2048"
      ]
     },
     "execution_count": 101,
     "metadata": {},
     "output_type": "execute_result"
    }
   ],
   "source": [
    "len(token_ids[0])"
   ]
  },
  {
   "cell_type": "code",
   "execution_count": 102,
   "metadata": {
    "colab": {
     "base_uri": "https://localhost:8080/"
    },
    "id": "psxQ5Ib5Yqax",
    "outputId": "bbf1a15c-2059-4475-c2e4-5ddba846e1d4"
   },
   "outputs": [
    {
     "data": {
      "text/plain": [
       "tensor([1, 1, 1, 1, 1, 1, 1, 1, 1, 1, 1, 1, 1, 1, 1, 1, 1, 1, 1, 1, 1, 1, 1, 1,\n",
       "        1, 1, 1, 1, 1, 1, 1, 1, 1, 1, 1, 1, 1, 1, 1, 1, 1, 1, 1, 1, 1, 1, 1, 1,\n",
       "        1, 1])"
      ]
     },
     "execution_count": 102,
     "metadata": {},
     "output_type": "execute_result"
    }
   ],
   "source": [
    "token_ids[0][-50:]  # Show the last 50 tokens."
   ]
  },
  {
   "cell_type": "markdown",
   "metadata": {
    "id": "EUHpbYFoY2CQ"
   },
   "source": [
    "Теперь давайте возьмем выходные данные модели с учетом этих входных данных ДНК:"
   ]
  },
  {
   "cell_type": "code",
   "execution_count": 103,
   "metadata": {
    "id": "zOPWLYQ9X7Hp"
   },
   "outputs": [],
   "source": [
    "attention_mask = token_ids != tokenizer.pad_token_id\n",
    "\n",
    "torch_outs = language_model(\n",
    "  token_ids,\n",
    "  attention_mask=attention_mask,\n",
    "  encoder_attention_mask=attention_mask,\n",
    "  output_hidden_states=True,\n",
    ")"
   ]
  },
  {
   "cell_type": "markdown",
   "metadata": {
    "id": "qKza0f1jZFDd"
   },
   "source": [
    "Мы можем видеть, что присутствуют 13 различных выходных данных скрытых состояний, представляющих выходные данные из 13 различных уровней в модели:"
   ]
  },
  {
   "cell_type": "code",
   "execution_count": 104,
   "metadata": {
    "colab": {
     "base_uri": "https://localhost:8080/"
    },
    "id": "ARjvBGUAY6Gg",
    "outputId": "5fbb4004-96c2-41e6-facd-e0a622a80507"
   },
   "outputs": [
    {
     "data": {
      "text/plain": [
       "13"
      ]
     },
     "execution_count": 104,
     "metadata": {},
     "output_type": "execute_result"
    }
   ],
   "source": [
    "len(torch_outs['hidden_states'])"
   ]
  },
  {
   "cell_type": "markdown",
   "metadata": {
    "id": "N92L57BIZOiu"
   },
   "source": [
    "Давайте возьмем конечное скрытое состояние с индексом `-1`, поскольку это, вероятно, будет информативным (но, возможно, не оптимально информативным для каждой задачи - мы могли бы попробовать предпоследнее скрытое состояние или предпоследнее третье и т.д.).:"
   ]
  },
  {
   "cell_type": "code",
   "execution_count": 105,
   "metadata": {
    "colab": {
     "base_uri": "https://localhost:8080/"
    },
    "id": "rTruDvORZYM7",
    "outputId": "52acfbcb-8b8a-4a86-a472-5935f2a8ed8f"
   },
   "outputs": [
    {
     "data": {
      "text/plain": [
       "(2048, 512)"
      ]
     },
     "execution_count": 105,
     "metadata": {},
     "output_type": "execute_result"
    }
   ],
   "source": [
    "embeddings = torch_outs['hidden_states'][-1].detach()\n",
    "embeddings = np.squeeze(embeddings.numpy())\n",
    "embeddings.shape"
   ]
  },
  {
   "cell_type": "markdown",
   "metadata": {
    "id": "lt6PoMHoZhrG"
   },
   "source": [
    "Мы можем видеть, что вложение представляет собой матрицу размером 2048 на 512. Это большая вычислительная матрица!"
   ]
  },
  {
   "cell_type": "code",
   "execution_count": 106,
   "metadata": {
    "colab": {
     "base_uri": "https://localhost:8080/"
    },
    "id": "G-_x-wwjZust",
    "outputId": "2d248269-0cf3-4f61-db0e-aad03e092735"
   },
   "outputs": [
    {
     "data": {
      "text/plain": [
       "array([[-0.11629012,  0.46589923,  0.1679897 , ..., -0.2522723 ,\n",
       "        -0.12069149, -0.19459972],\n",
       "       [-0.8165438 ,  0.35171723,  0.3231829 , ..., -0.32326648,\n",
       "        -0.98214287, -0.2937013 ],\n",
       "       [-0.09435398,  0.47468847,  0.05433575, ..., -0.02901587,\n",
       "         0.3908945 ,  0.36394954],\n",
       "       ...,\n",
       "       [-0.72034293,  1.0877419 ,  0.32370812, ..., -0.10283032,\n",
       "        -0.7627153 , -1.0481844 ],\n",
       "       [-0.74054134,  1.0460615 ,  0.24285091, ..., -0.29076302,\n",
       "        -0.85446316, -0.900694  ],\n",
       "       [-0.9411088 ,  1.0188293 ,  0.21054266, ..., -0.44054663,\n",
       "        -0.8289268 , -1.0524396 ]], shape=(2048, 512), dtype=float32)"
      ]
     },
     "execution_count": 106,
     "metadata": {},
     "output_type": "execute_result"
    }
   ],
   "source": [
    "embeddings"
   ]
  },
  {
   "cell_type": "markdown",
   "metadata": {
    "id": "-YTHUDbdZxcy"
   },
   "source": [
    "В рамках этой большой матрицы чисел модель уловила некоторое представление о значении цепочки ДНК.\n",
    "\n",
    "Напомним, что наша строка ДНК имела длину 2048 – это означает, что каждая позиция имеет свой собственный вектор вложения длиной 512, учитывающий контекст.\n",
    "\n",
    "Мы могли бы визуализировать эту матрицу чисел, но это само по себе не имело бы особого смысла:\n"
   ]
  },
  {
   "cell_type": "code",
   "execution_count": 107,
   "metadata": {
    "colab": {
     "base_uri": "https://localhost:8080/",
     "height": 435
    },
    "id": "cCj4Bu6TaGbK",
    "outputId": "ccbb0c70-443f-4d69-fab2-dd3516098dfd"
   },
   "outputs": [
    {
     "data": {
      "image/png": "[encoded data removed]",
      "text/plain": [
       "<Figure size 640x480 with 1 Axes>"
      ]
     },
     "metadata": {},
     "output_type": "display_data"
    }
   ],
   "source": [
    "plt.imshow(embeddings)\n",
    "plt.show()"
   ]
  },
  {
   "cell_type": "markdown",
   "metadata": {
    "id": "YMqR4K-baXns"
   },
   "source": [
    "Одним из распространенных способов обобщения подобного встраивания является вычисление **среднего значения встраивания** – мы можем взять среднее значение по пространственной оси и получить встраивание длиной 512, которое представляет всю последовательность ДНК."
   ]
  },
  {
   "cell_type": "code",
   "execution_count": 108,
   "metadata": {
    "colab": {
     "base_uri": "https://localhost:8080/",
     "height": 430
    },
    "id": "0KWL7QyDbN4A",
    "outputId": "af27618f-1176-41fa-d30a-75c68c35b077",
    "scrolled": true
   },
   "outputs": [
    {
     "data": {
      "image/png": "[encoded data removed]",
      "text/plain": [
       "<Figure size 640x480 with 1 Axes>"
      ]
     },
     "metadata": {},
     "output_type": "display_data"
    }
   ],
   "source": [
    "# Переместите ось, чтобы заставить вещание работать.\n",
    "attention_mask = np.moveaxis(attention_mask.numpy(), 0, -1)\n",
    "\n",
    "# Вычислить среднее встраивание.\n",
    "mean_embeddings = np.sum(\n",
    "    attention_mask * embeddings, axis=0) / np.sum(attention_mask)\n",
    "\n",
    "plt.plot(mean_embeddings, color='grey')\n",
    "plt.show()"
   ]
  },
  {
   "cell_type": "markdown",
   "metadata": {
    "id": "P0obDhoSbsF9"
   },
   "source": [
    "**Приятно иметь возможность вот так сократить последовательность ДНК до 512 чисел, но все равно трудно по-настоящему понять, что означают эти числа.**\n",
    "\n",
    "Ценность вложений последовательностей действительно проявляется, когда вы **сравниваете их друг с другом**. Итак, давайте напишем функцию `fetch_random_dna`, которая извлечет несколько случайных последовательностей ДНК для данного вида:"
   ]
  },
  {
   "cell_type": "code",
   "execution_count": 109,
   "metadata": {
    "id": "v-Wor2NYVwuS"
   },
   "outputs": [],
   "source": [
    "def fetch_random_dna(\n",
    "  organism: str,\n",
    "  min_length: int,\n",
    "  max_length: int,\n",
    "  num_sequences: int,\n",
    "  max_attempts: int = 50) -> list[str]:\n",
    "  \"\"\"Извлеките определенное количество последовательностей ДНК заданной длины для определенного вида.\"\"\"\n",
    "  # Ищите нуклеотидные записи для организма, как мы делали раньше.\n",
    "  handle = Entrez.esearch(\n",
    "      db='nucleotide', term=f'{organism}[Organism]', retmax=max_attempts)\n",
    "  record = Entrez.read(handle)\n",
    "  handle.close()\n",
    "  if not record['IdList']:\n",
    "    return []\n",
    "\n",
    "  # Мы можем собрать наши последовательности ДНК в этом списке.\n",
    "  sequences = []\n",
    "  attempts = 0\n",
    "\n",
    "  while len(sequences) < num_sequences and attempts < max_attempts:\n",
    "    random_record_id = random.choice(record['IdList'])\n",
    "    handle = Entrez.efetch(\n",
    "        db='nucleotide', id=random_record_id, rettype='fasta', retmode='text')\n",
    "    try:\n",
    "      seq_record = SeqIO.read(handle, 'fasta')\n",
    "      handle.close()\n",
    "\n",
    "      if len(seq_record.seq) >= min_length:\n",
    "        seq = str(seq_record.seq)\n",
    "        if len(seq) > max_length:\n",
    "          seq = seq[:max_length]\n",
    "        sequences.append(seq)\n",
    "\n",
    "    # Обработайте случай, когда не было найдено ни одной действительной записи FASTA.\n",
    "    except ValueError:\n",
    "      handle.close()\n",
    "    attempts += 1\n",
    "\n",
    "  return sequences"
   ]
  },
  {
   "cell_type": "markdown",
   "metadata": {
    "id": "x-F4OQESebs4"
   },
   "source": [
    "Давайте воспользуемся этим, чтобы получить одну короткую последовательность ДНК для человека:"
   ]
  },
  {
   "cell_type": "code",
   "execution_count": 110,
   "metadata": {
    "colab": {
     "base_uri": "https://localhost:8080/"
    },
    "id": "7xbuwa-8eWR-",
    "outputId": "c6c14381-f519-4211-b306-06705242fcaa"
   },
   "outputs": [
    {
     "data": {
      "text/plain": [
       "['AATTTCGGAATTGCAGGCAGCGTCTCCTGAGGACAAGGGGAAAGCCGGTG']"
      ]
     },
     "execution_count": 110,
     "metadata": {},
     "output_type": "execute_result"
    }
   ],
   "source": [
    "fetch_random_dna(\n",
    "    organism='Homo sapiens', min_length=10, max_length=50, num_sequences=1)"
   ]
  },
  {
   "cell_type": "markdown",
   "metadata": {
    "id": "BeCb7wbGeiN-"
   },
   "source": [
    "Теперь мы можем легко использовать это для извлечения некоторых последовательностей ДНК для организмов из нашего списка выше. Код для этого будет выглядеть следующим образом:"
   ]
  },
  {
   "cell_type": "code",
   "execution_count": 142,
   "metadata": {
    "colab": {
     "base_uri": "https://localhost:8080/"
    },
    "id": "gXHNINCZeUAS",
    "outputId": "39f8e1c6-3e97-4eaf-cd7f-aae0685f8c82"
   },
   "outputs": [
    {
     "name": "stdout",
     "output_type": "stream",
     "text": [
      "Выборка 1 случайной последовательности ДНК минимальной длины 100 и максимальной длины 1000 для 3 организмов...\n",
      "\n"
     ]
    },
    {
     "name": "stderr",
     "output_type": "stream",
     "text": [
      "Организмы:   0%|                                                                                 | 0/3 [00:00<?, ?it/s]"
     ]
    },
    {
     "name": "stdout",
     "output_type": "stream",
     "text": [
      "Homo sapiens\n"
     ]
    },
    {
     "name": "stderr",
     "output_type": "stream",
     "text": [
      "Организмы:  33%|████████████████████████▎                                                | 1/3 [00:01<00:03,  1.70s/it]"
     ]
    },
    {
     "name": "stdout",
     "output_type": "stream",
     "text": [
      "Pan troglodytes\n"
     ]
    },
    {
     "name": "stderr",
     "output_type": "stream",
     "text": [
      "Организмы:  67%|████████████████████████████████████████████████▋                        | 2/3 [00:03<00:01,  1.54s/it]"
     ]
    },
    {
     "name": "stdout",
     "output_type": "stream",
     "text": [
      "Pan paniscus\n"
     ]
    },
    {
     "name": "stderr",
     "output_type": "stream",
     "text": [
      "Организмы: 100%|█████████████████████████████████████████████████████████████████████████| 3/3 [00:04<00:00,  1.49s/it]\n"
     ]
    }
   ],
   "source": [
    "NUM_SEQUENCES = 1\n",
    "MIN_LENGTH = 100\n",
    "MAX_LENGTH = 1000\n",
    "random.seed(42)\n",
    "\n",
    "first_organisms = organisms[0:3]\n",
    "\n",
    "print(f'Выборка {NUM_SEQUENCES} случайной последовательности ДНК минимальной длины '\n",
    "      f'{MIN_LENGTH} и максимальной длины {MAX_LENGTH} для {len(first_organisms)} '\n",
    "      'организмов...\\n')\n",
    "\n",
    "dna_sequences_small = []\n",
    "organism_labels = []\n",
    "\n",
    "for organism in tqdm.tqdm(first_organisms, desc='Организмы'):\n",
    "  print(organism, flush=True)\n",
    "  sequences = fetch_random_dna(\n",
    "      organism, min_length=MIN_LENGTH, max_length=MAX_LENGTH,\n",
    "      num_sequences=NUM_SEQUENCES)\n",
    "  dna_sequences_small += sequences\n",
    "  organism_labels += [organism] * len(sequences)\n",
    "\n",
    "dna_sequences_small = pd.DataFrame({'sequence': dna_sequences_small, 'organism': organism_labels})"
   ]
  },
  {
   "cell_type": "markdown",
   "metadata": {
    "id": "mIs-VYPDgRKE"
   },
   "source": [
    "Но это займет несколько минут, если мы хотим получить, скажем, 20 последовательностей ДНК для каждого из 10 организмов, поэтому для скорости мы предварительно выбрали некоторые последовательности для удобства:"
   ]
  },
  {
   "cell_type": "code",
   "execution_count": 145,
   "metadata": {
    "colab": {
     "base_uri": "https://localhost:8080/",
     "height": 423
    },
    "id": "tNrT7f6y1yv3",
    "outputId": "ae7abf23-6827-476c-a7b2-8c2ea64ab2d5"
   },
   "outputs": [
    {
     "data": {
      "text/html": [
       "<div>\n",
       "<style scoped>\n",
       "    .dataframe tbody tr th:only-of-type {\n",
       "        vertical-align: middle;\n",
       "    }\n",
       "\n",
       "    .dataframe tbody tr th {\n",
       "        vertical-align: top;\n",
       "    }\n",
       "\n",
       "    .dataframe thead th {\n",
       "        text-align: right;\n",
       "    }\n",
       "</style>\n",
       "<table border=\"1\" class=\"dataframe\">\n",
       "  <thead>\n",
       "    <tr style=\"text-align: right;\">\n",
       "      <th></th>\n",
       "      <th>sequence</th>\n",
       "      <th>organism</th>\n",
       "    </tr>\n",
       "  </thead>\n",
       "  <tbody>\n",
       "    <tr>\n",
       "      <th>0</th>\n",
       "      <td>ATCGCTTCTCGGCCTTTTGGCTAAGATCAAGTGTAGTATCTGTTCT...</td>\n",
       "      <td>Homo sapiens</td>\n",
       "    </tr>\n",
       "    <tr>\n",
       "      <th>1</th>\n",
       "      <td>ATACTCTGGTTTCTCTTCAGATCGCATAAATCTTTCGCCTTTTACT...</td>\n",
       "      <td>Homo sapiens</td>\n",
       "    </tr>\n",
       "    <tr>\n",
       "      <th>2</th>\n",
       "      <td>NGCTTTGCGCAGTGGCAGTATCGTAGCCAATGAGGTCTATCCGAGG...</td>\n",
       "      <td>Homo sapiens</td>\n",
       "    </tr>\n",
       "    <tr>\n",
       "      <th>3</th>\n",
       "      <td>ATCAATATCCACCTGCAGATACTACCAAAAGTGTATTTGGAAACTG...</td>\n",
       "      <td>Homo sapiens</td>\n",
       "    </tr>\n",
       "    <tr>\n",
       "      <th>4</th>\n",
       "      <td>GGGAGGTTTCCTTGAAGCTTTCGTGCTGACCCTGTCCCTTTTTTTT...</td>\n",
       "      <td>Homo sapiens</td>\n",
       "    </tr>\n",
       "    <tr>\n",
       "      <th>...</th>\n",
       "      <td>...</td>\n",
       "      <td>...</td>\n",
       "    </tr>\n",
       "    <tr>\n",
       "      <th>195</th>\n",
       "      <td>CGGCGGAGATCTCGAACTACGTCAACATCCAGCGGAAGAAGAAGGT...</td>\n",
       "      <td>Pseudomonas aeruginosa</td>\n",
       "    </tr>\n",
       "    <tr>\n",
       "      <th>196</th>\n",
       "      <td>GCTTGCTCATCAGACACCTCTCTCACGGCGAGGATTCTCGCCTAAA...</td>\n",
       "      <td>Pseudomonas aeruginosa</td>\n",
       "    </tr>\n",
       "    <tr>\n",
       "      <th>197</th>\n",
       "      <td>ATGAGCGGCGTCGCCCGCGAGGCCATGGAGGACGTCGCGCCGGCGG...</td>\n",
       "      <td>Pseudomonas aeruginosa</td>\n",
       "    </tr>\n",
       "    <tr>\n",
       "      <th>198</th>\n",
       "      <td>ATGCTGATCCGCGCCGCAACCTCGACCCTGCTGGTGGTCGATATCC...</td>\n",
       "      <td>Pseudomonas aeruginosa</td>\n",
       "    </tr>\n",
       "    <tr>\n",
       "      <th>199</th>\n",
       "      <td>GAGGGTGTGCAGAATTTTGTGTAACCGGGGTTAGGGTTACTGCTGC...</td>\n",
       "      <td>Pseudomonas aeruginosa</td>\n",
       "    </tr>\n",
       "  </tbody>\n",
       "</table>\n",
       "<p>200 rows × 2 columns</p>\n",
       "</div>"
      ],
      "text/plain": [
       "                                              sequence                organism\n",
       "0    ATCGCTTCTCGGCCTTTTGGCTAAGATCAAGTGTAGTATCTGTTCT...            Homo sapiens\n",
       "1    ATACTCTGGTTTCTCTTCAGATCGCATAAATCTTTCGCCTTTTACT...            Homo sapiens\n",
       "2    NGCTTTGCGCAGTGGCAGTATCGTAGCCAATGAGGTCTATCCGAGG...            Homo sapiens\n",
       "3    ATCAATATCCACCTGCAGATACTACCAAAAGTGTATTTGGAAACTG...            Homo sapiens\n",
       "4    GGGAGGTTTCCTTGAAGCTTTCGTGCTGACCCTGTCCCTTTTTTTT...            Homo sapiens\n",
       "..                                                 ...                     ...\n",
       "195  CGGCGGAGATCTCGAACTACGTCAACATCCAGCGGAAGAAGAAGGT...  Pseudomonas aeruginosa\n",
       "196  GCTTGCTCATCAGACACCTCTCTCACGGCGAGGATTCTCGCCTAAA...  Pseudomonas aeruginosa\n",
       "197  ATGAGCGGCGTCGCCCGCGAGGCCATGGAGGACGTCGCGCCGGCGG...  Pseudomonas aeruginosa\n",
       "198  ATGCTGATCCGCGCCGCAACCTCGACCCTGCTGGTGGTCGATATCC...  Pseudomonas aeruginosa\n",
       "199  GAGGGTGTGCAGAATTTTGTGTAACCGGGGTTAGGGTTACTGCTGC...  Pseudomonas aeruginosa\n",
       "\n",
       "[200 rows x 2 columns]"
      ]
     },
     "execution_count": 145,
     "metadata": {},
     "output_type": "execute_result"
    }
   ],
   "source": [
    "dna_sequences"
   ]
  },
  {
   "cell_type": "markdown",
   "metadata": {
    "id": "TMzlFGizQbor"
   },
   "source": [
    "Мы можем использовать наш предыдущий код для извлечения средних последовательностей встраивания строк ДНК:"
   ]
  },
  {
   "cell_type": "code",
   "execution_count": 113,
   "metadata": {
    "id": "W-1hLFeQ3Gwp"
   },
   "outputs": [],
   "source": [
    "def _compute_mean_sequence_embeddings(\n",
    "  dna_sequences: list[str],\n",
    "  tokenizer: AutoTokenizer,\n",
    "  model: AutoModelForMaskedLM):\n",
    "\n",
    "  max_length = tokenizer.model_max_length\n",
    "  tokens_ids = tokenizer.batch_encode_plus(\n",
    "    dna_sequences, return_tensors=\"pt\", padding=\"max_length\",\n",
    "    max_length=max_length)[\"input_ids\"]\n",
    "\n",
    "  # Вычислите вложения.\n",
    "  attention_mask = tokens_ids != tokenizer.pad_token_id\n",
    "\n",
    "  # Переместите модель и тензоры на графический процессор. (если не получится, останется на CPU)\n",
    "  model = model.to(\"cuda\" if torch.cuda.is_available() else \"cpu\")\n",
    "  tokens_ids = tokens_ids.to(\"cuda\" if torch.cuda.is_available() else \"cpu\")\n",
    "  attention_mask = attention_mask.to(\"cuda\" if torch.cuda.is_available() else \"cpu\")\n",
    "\n",
    "  # По умолчанию PyTorch сохраняет график вычислений для обратного прохождения, но это\n",
    "  # заполняет оперативную память, а нам это не нужно, поэтому мы отключаем это с помощью torch.no_grad() .\n",
    "  with torch.no_grad():\n",
    "    torch_outs = model(\n",
    "      tokens_ids,\n",
    "      attention_mask=attention_mask,\n",
    "      encoder_attention_mask=attention_mask,\n",
    "      output_hidden_states=True,\n",
    "    )\n",
    "\n",
    "  # Вычисление вложений последовательностей.\n",
    "  embeddings = torch_outs['hidden_states'][-1].detach().cpu()\n",
    "\n",
    "  # Добавьте ось встроенного измерения.\n",
    "  attention_mask_cpu = torch.unsqueeze(attention_mask.cpu(), dim=-1)\n",
    "\n",
    "  # Вычислите среднее значение вложений для каждой последовательности\n",
    "  mean_sequence_embeddings = torch.sum(\n",
    "    attention_mask_cpu * embeddings, axis=-2) / torch.sum(attention_mask_cpu, axis=1)\n",
    "\n",
    "  return mean_sequence_embeddings.numpy()\n",
    "\n",
    "\n",
    "def compute_mean_sequence_embeddings(\n",
    "    dna_sequences: list[str],\n",
    "    tokenizer: AutoTokenizer,\n",
    "    model: AutoModelForMaskedLM,\n",
    "    batch_size: int = 4) -> np.ndarray:\n",
    "  \"\"\"Вычисляет средние значения встраивания последовательностей для списка строк ДНК.\"\"\"\n",
    "  all_mean_embeddings = []\n",
    "\n",
    "  for i in tqdm.tqdm(range(0, len(dna_sequences), batch_size)):\n",
    "    batch_sequences = dna_sequences[i:i+batch_size]\n",
    "    batch_mean_embeddings = _compute_mean_sequence_embeddings(\n",
    "        batch_sequences, tokenizer, model)\n",
    "    all_mean_embeddings.extend(batch_mean_embeddings)\n",
    "\n",
    "  return np.vstack(all_mean_embeddings)\n"
   ]
  },
  {
   "cell_type": "code",
   "execution_count": 114,
   "metadata": {
    "colab": {
     "base_uri": "https://localhost:8080/"
    },
    "id": "sF77cUxYn1WQ",
    "outputId": "a1c24609-2cb7-4d06-e2a4-9f7f17029b1f"
   },
   "outputs": [
    {
     "name": "stderr",
     "output_type": "stream",
     "text": [
      "100%|██████████████████████████████████████████████████████████████████████████████████| 50/50 [04:59<00:00,  5.99s/it]\n"
     ]
    }
   ],
   "source": [
    "embeddings = compute_mean_sequence_embeddings(\n",
    "    dna_sequences['sequence'], tokenizer, language_model)"
   ]
  },
  {
   "cell_type": "markdown",
   "metadata": {
    "id": "6AyrRWPrQxaJ"
   },
   "source": [
    "Это дает нам встраивание длиной 512 для каждой из 200 строк ДНК:"
   ]
  },
  {
   "cell_type": "code",
   "execution_count": 115,
   "metadata": {
    "colab": {
     "base_uri": "https://localhost:8080/"
    },
    "id": "ieeTRVEAQwOO",
    "outputId": "18331328-d064-428e-fae2-146a618c59da"
   },
   "outputs": [
    {
     "data": {
      "text/plain": [
       "(200, 512)"
      ]
     },
     "execution_count": 115,
     "metadata": {},
     "output_type": "execute_result"
    }
   ],
   "source": [
    "embeddings.shape"
   ]
  },
  {
   "cell_type": "markdown",
   "metadata": {
    "id": "qV0ZDnTSQ2Uy"
   },
   "source": [
    "Было бы здорово визуализировать их. Но поскольку люди на самом деле не могут визуализировать объекты в 512-мерном пространстве, давайте сначала воспользуемся техникой уменьшения размерности, такой как tSNE, чтобы спроецировать данные до двух измерений. Это дает 2 числа для каждой исходной последовательности ДНК, которые все еще отражают некоторое представление о значении в ДНК:"
   ]
  },
  {
   "cell_type": "code",
   "execution_count": 116,
   "metadata": {
    "colab": {
     "base_uri": "https://localhost:8080/",
     "height": 423
    },
    "id": "6i1lalSt3DUg",
    "outputId": "883c7561-9acb-43a5-d32c-9b77ad2bd36f"
   },
   "outputs": [
    {
     "name": "stdout",
     "output_type": "stream",
     "text": [
      "Using 8 CPU cores (LOKY_MAX_CPU_COUNT).\n"
     ]
    },
    {
     "data": {
      "text/html": [
       "<div>\n",
       "<style scoped>\n",
       "    .dataframe tbody tr th:only-of-type {\n",
       "        vertical-align: middle;\n",
       "    }\n",
       "\n",
       "    .dataframe tbody tr th {\n",
       "        vertical-align: top;\n",
       "    }\n",
       "\n",
       "    .dataframe thead th {\n",
       "        text-align: right;\n",
       "    }\n",
       "</style>\n",
       "<table border=\"1\" class=\"dataframe\">\n",
       "  <thead>\n",
       "    <tr style=\"text-align: right;\">\n",
       "      <th></th>\n",
       "      <th>first_dim</th>\n",
       "      <th>second_dim</th>\n",
       "      <th>organism</th>\n",
       "    </tr>\n",
       "  </thead>\n",
       "  <tbody>\n",
       "    <tr>\n",
       "      <th>0</th>\n",
       "      <td>-35.622070</td>\n",
       "      <td>96.967926</td>\n",
       "      <td>Homo sapiens</td>\n",
       "    </tr>\n",
       "    <tr>\n",
       "      <th>1</th>\n",
       "      <td>-54.250107</td>\n",
       "      <td>132.498474</td>\n",
       "      <td>Homo sapiens</td>\n",
       "    </tr>\n",
       "    <tr>\n",
       "      <th>2</th>\n",
       "      <td>-80.369370</td>\n",
       "      <td>120.909874</td>\n",
       "      <td>Homo sapiens</td>\n",
       "    </tr>\n",
       "    <tr>\n",
       "      <th>3</th>\n",
       "      <td>-9.819554</td>\n",
       "      <td>129.389542</td>\n",
       "      <td>Homo sapiens</td>\n",
       "    </tr>\n",
       "    <tr>\n",
       "      <th>4</th>\n",
       "      <td>-100.618370</td>\n",
       "      <td>109.416306</td>\n",
       "      <td>Homo sapiens</td>\n",
       "    </tr>\n",
       "    <tr>\n",
       "      <th>...</th>\n",
       "      <td>...</td>\n",
       "      <td>...</td>\n",
       "      <td>...</td>\n",
       "    </tr>\n",
       "    <tr>\n",
       "      <th>195</th>\n",
       "      <td>-85.745644</td>\n",
       "      <td>99.472870</td>\n",
       "      <td>Pseudomonas aeruginosa</td>\n",
       "    </tr>\n",
       "    <tr>\n",
       "      <th>196</th>\n",
       "      <td>35.117790</td>\n",
       "      <td>-114.008217</td>\n",
       "      <td>Pseudomonas aeruginosa</td>\n",
       "    </tr>\n",
       "    <tr>\n",
       "      <th>197</th>\n",
       "      <td>34.167030</td>\n",
       "      <td>-156.688278</td>\n",
       "      <td>Pseudomonas aeruginosa</td>\n",
       "    </tr>\n",
       "    <tr>\n",
       "      <th>198</th>\n",
       "      <td>61.588875</td>\n",
       "      <td>47.866882</td>\n",
       "      <td>Pseudomonas aeruginosa</td>\n",
       "    </tr>\n",
       "    <tr>\n",
       "      <th>199</th>\n",
       "      <td>45.696980</td>\n",
       "      <td>-130.263290</td>\n",
       "      <td>Pseudomonas aeruginosa</td>\n",
       "    </tr>\n",
       "  </tbody>\n",
       "</table>\n",
       "<p>200 rows × 3 columns</p>\n",
       "</div>"
      ],
      "text/plain": [
       "      first_dim  second_dim                organism\n",
       "0    -35.622070   96.967926            Homo sapiens\n",
       "1    -54.250107  132.498474            Homo sapiens\n",
       "2    -80.369370  120.909874            Homo sapiens\n",
       "3     -9.819554  129.389542            Homo sapiens\n",
       "4   -100.618370  109.416306            Homo sapiens\n",
       "..          ...         ...                     ...\n",
       "195  -85.745644   99.472870  Pseudomonas aeruginosa\n",
       "196   35.117790 -114.008217  Pseudomonas aeruginosa\n",
       "197   34.167030 -156.688278  Pseudomonas aeruginosa\n",
       "198   61.588875   47.866882  Pseudomonas aeruginosa\n",
       "199   45.696980 -130.263290  Pseudomonas aeruginosa\n",
       "\n",
       "[200 rows x 3 columns]"
      ]
     },
     "execution_count": 116,
     "metadata": {},
     "output_type": "execute_result"
    }
   ],
   "source": [
    "# Определяем число физических ядер с помощью wmic или используем логические ядра, если не удалось.\n",
    "import multiprocessing\n",
    "try:\n",
    "    output = subprocess.check_output(\n",
    "        \"wmic CPU Get NumberOfCores /Format:csv\".split(),\n",
    "        text=True\n",
    "    ).strip()\n",
    "    lines = output.splitlines()\n",
    "    # Пропускаем заголовок и суммируем количество ядер по всем CPU.\n",
    "    num_cores = sum(int(line.split(',')[-1]) for line in lines[1:] if line)\n",
    "except Exception as e:\n",
    "    num_cores = multiprocessing.cpu_count()\n",
    "\n",
    "# Устанавливаем переменную окружения для Loky\n",
    "os.environ[\"LOKY_MAX_CPU_COUNT\"] = str(num_cores)\n",
    "print(\"Using\", num_cores, \"CPU cores (LOKY_MAX_CPU_COUNT).\")\n",
    "#__________________________________________________________________________\n",
    "tsne = TSNE(n_components=2, learning_rate='auto', random_state=0)\n",
    "embeddings_tsne = tsne.fit_transform(embeddings)\n",
    "\n",
    "embeddings_tsne_df = pd.DataFrame(\n",
    "    embeddings_tsne, columns=['first_dim', 'second_dim'])\n",
    "\n",
    "embeddings_tsne_df['organism'] = dna_sequences['organism']\n",
    "embeddings_tsne_df"
   ]
  },
  {
   "cell_type": "markdown",
   "metadata": {
    "id": "GCMrzbZU3FMR"
   },
   "source": [
    "Чтобы увидеть, объединяются ли сходные типы последовательностей ДНК, происходящие от сходных типов видов, мы можем пометить каждый маркер либо меткой его вида, либо более общей меткой, такой как \"животное\" или \"растение\", и изменить схему и раскрасить по метке:"
   ]
  },
  {
   "cell_type": "code",
   "execution_count": 117,
   "metadata": {
    "colab": {
     "base_uri": "https://localhost:8080/",
     "height": 487
    },
    "id": "8FSSR3h53MPG",
    "outputId": "2dcaa03a-9e99-4695-a415-0c01eb0d10b2"
   },
   "outputs": [
    {
     "data": {
      "image/png": "[encoded data removed]",
      "text/plain": [
       "<Figure size 640x480 with 1 Axes>"
      ]
     },
     "metadata": {},
     "output_type": "display_data"
    }
   ],
   "source": [
    "labels = {\n",
    "    'Homo sapiens': 'animal',\n",
    "    'Pan paniscus': 'animal',\n",
    "    'Pan troglodytes': 'animal',\n",
    "    'Tursiops truncatus': 'animal',\n",
    "    'Hydrochoerus hydrochaeris': 'animal',\n",
    "    'Escherichia coli': 'bacteria',\n",
    "    'Pseudomonas aeruginosa': 'bacteria',\n",
    "    'Lactobacillus acidophilus': 'bacteria',\n",
    "    'Salmonella enterica': 'bacteria',\n",
    "    }\n",
    "\n",
    "embeddings_tsne_df['label'] = embeddings_tsne_df['organism'].map(labels)\n",
    "\n",
    "ax = sns.scatterplot(data=embeddings_tsne_df,\n",
    "                x='first_dim',\n",
    "                y='second_dim',\n",
    "                hue='label', color=None,\n",
    "                s=200, alpha=0.7, palette='Set2')\n",
    "\n",
    "plt.legend(loc='center left', bbox_to_anchor=(1, 0.5))\n",
    "\n",
    "plt.tight_layout()"
   ]
  },
  {
   "cell_type": "markdown",
   "metadata": {
    "id": "manXg5mkfRqU"
   },
   "source": [
    "Похоже, что, хотя последовательности животных и бактерий, как правило, занимают несколько разные части пространства встраивания, безусловно, существует много совпадений, предполагающих, что геномы на древе жизни имеют много общего!\n",
    "\n",
    "**Вопрос**: Это то, что вы ожидали увидеть?\n",
    "\n",
    "На случай, если вам интересно узнать больше о геномах животных и бактерий, вот несколько забавных фактов:\n",
    "- ***Сходства***:\n",
    "   **Базовый генетический код**: геномы животных и бактерий используют один и тот же генетический код, при этом последовательности ДНК состоят из одних и тех же четырех нуклеотидов: аденина (A), цитозина (C), гуанина (G) и тимина (T).\n",
    "  - **Консервативные гены**: Многие фундаментальные гены, участвующие в важнейших процессах, таких как репликация ДНК, транскрипция и трансляция, сохраняются как у животных, так и у бактерий.\n",
    "- ***Различия***:\n",
    "  - **Размер генома**: Геномы животных обычно намного больше (у людей 3,2 миллиарда оснований ДНК), в то время как геномы бактерий меньше (от нескольких сотен тысяч до нескольких миллионов).\n",
    "   **Хромосомы**: Животные имеют несколько линейных хромосом, в то время как бактерии обычно имеют одну кольцевую хромосому.\n",
    "  - **Плотность генов**: Геномы бактерий более насыщены генами, в то время как геномы животных более разрежены и содержат больше регуляторных элементов.\n",
    "  - **Структура гена**: Гены животных часто содержат интроны (некодирующие области внутри генов), в то время как гены бактерий обычно этого не делают.\n",
    "\n",
    "**Вопрос**: Какие из этих различий могут быть отражены приведенными выше встраиваниями?"
   ]
  },
  {
   "cell_type": "markdown",
   "metadata": {},
   "source": [
    "### **Вопрос**: \n",
    "Какие из этих различий могут быть отражены приведенными выше встраиваниями?"
   ]
  },
  {
   "cell_type": "markdown",
   "metadata": {},
   "source": [
    "Учитывая что нелинейное преобразование, такое как, сводит высокоразмерное пространство к двумерному, где неизбежно происходит утрата линейной независимости, поскольку любые более чем два вектора в R^2 линейнозависимы. И тот факт что скалярным поизведением эмбидинга на маску мы преобразуем векторы в скаляры. Я надеюсь что сохранение локальной топологии обеспечивает достаточно дочную визуализацию кластеров, отражающих биологически значимые сходства. "
   ]
  },
  {
   "cell_type": "markdown",
   "metadata": {
    "id": "iZnCLa1xHjTQ"
   },
   "source": [
    "## **Задание**:\n",
    "- Попробуйте получить некоторые последовательности ДНК для других видов, например, для некоторых видов растений. Вот несколько научных названий растений.:\n",
    "```python\n",
    " plants = [\n",
    "  'Oryza sativa',  # Rice\n",
    "  'Vitis vinifera',  # Grape\n",
    "  'Rosa chinensis',  # Rose\n",
    "  'Musa acuminata',  # Banana\n",
    "  'Solanum lycopersicum', # Tomato\n",
    " ]\n",
    " ```\n",
    "- Насколько точечная диаграмма чувствительна к изменениям в случайных началах или других настройках? Попробуйте другой метод уменьшения размерности, например UMAP, вместо tSNE. Точечная диаграмма выглядит иначе?"
   ]
  },
  {
   "cell_type": "code",
   "execution_count": null,
   "metadata": {},
   "outputs": [
    {
     "name": "stdout",
     "output_type": "stream",
     "text": [
      "Выборка 200 случайной последовательности ДНК минимальной длины 100 и максимальной длины 1000 для 2 организмов...\n",
      "\n"
     ]
    },
    {
     "name": "stderr",
     "output_type": "stream",
     "text": [
      "Организмы:   0%|                                                                                 | 0/2 [00:00<?, ?it/s]"
     ]
    },
    {
     "name": "stdout",
     "output_type": "stream",
     "text": [
      "Rosa chinensis\n"
     ]
    }
   ],
   "source": [
    "NUM_SEQUENCES = 200\n",
    "MIN_LENGTH = 100\n",
    "MAX_LENGTH = 1000\n",
    "random.seed(42)\n",
    "\n",
    "plants = [\n",
    "    'Oryza sativa',  # Rice\n",
    "    'Vitis vinifera',  # Grape\n",
    "    'Rosa chinensis',  # Rose\n",
    "    'Musa acuminata',  # Banana\n",
    "    'Solanum lycopersicum',  # Tomato\n",
    "]\n",
    "\n",
    "target_organisms = plants[2:4]\n",
    "\n",
    "print(f'Выборка {NUM_SEQUENCES} случайной последовательности ДНК минимальной длины '\n",
    "      f'{MIN_LENGTH} и максимальной длины {MAX_LENGTH} для {len(target_organisms)} '\n",
    "      'организмов...\\n')\n",
    "\n",
    "dna_sequences_df = []\n",
    "organism_labels = []\n",
    "\n",
    "for organism in tqdm.tqdm(target_organisms, desc='Организмы'):\n",
    "  print(organism, flush=True)\n",
    "  sequences = fetch_random_dna(\n",
    "      organism, min_length=MIN_LENGTH, max_length=MAX_LENGTH,\n",
    "      num_sequences=NUM_SEQUENCES)\n",
    "  dna_sequences_df += sequences\n",
    "  organism_labels += [organism] * len(sequences)\n",
    "\n",
    "dna_sequences_df = pd.DataFrame({'sequence': dna_sequences_df, 'organism': organism_labels})"
   ]
  },
  {
   "cell_type": "code",
   "execution_count": null,
   "metadata": {},
   "outputs": [],
   "source": [
    "dna_sequences_df"
   ]
  },
  {
   "cell_type": "code",
   "execution_count": 140,
   "metadata": {},
   "outputs": [
    {
     "name": "stderr",
     "output_type": "stream",
     "text": [
      "100%|████████████████████████████████████████████████████████████████████████████████████| 1/1 [00:02<00:00,  2.55s/it]\n"
     ]
    }
   ],
   "source": [
    "embeddings = compute_mean_sequence_embeddings(\n",
    "    dna_sequences_df['sequence'], tokenizer, language_model)"
   ]
  },
  {
   "cell_type": "code",
   "execution_count": 141,
   "metadata": {},
   "outputs": [
    {
     "data": {
      "text/plain": [
       "(2, 512)"
      ]
     },
     "execution_count": 141,
     "metadata": {},
     "output_type": "execute_result"
    }
   ],
   "source": [
    "embeddings.shape"
   ]
  },
  {
   "cell_type": "code",
   "execution_count": 135,
   "metadata": {},
   "outputs": [
    {
     "name": "stdout",
     "output_type": "stream",
     "text": [
      "Using 8 CPU cores (LOKY_MAX_CPU_COUNT).\n"
     ]
    },
    {
     "data": {
      "text/html": [
       "<div>\n",
       "<style scoped>\n",
       "    .dataframe tbody tr th:only-of-type {\n",
       "        vertical-align: middle;\n",
       "    }\n",
       "\n",
       "    .dataframe tbody tr th {\n",
       "        vertical-align: top;\n",
       "    }\n",
       "\n",
       "    .dataframe thead th {\n",
       "        text-align: right;\n",
       "    }\n",
       "</style>\n",
       "<table border=\"1\" class=\"dataframe\">\n",
       "  <thead>\n",
       "    <tr style=\"text-align: right;\">\n",
       "      <th></th>\n",
       "      <th>first_dim</th>\n",
       "      <th>second_dim</th>\n",
       "      <th>organism</th>\n",
       "    </tr>\n",
       "  </thead>\n",
       "  <tbody>\n",
       "    <tr>\n",
       "      <th>0</th>\n",
       "      <td>1523.730225</td>\n",
       "      <td>-2.365082e-11</td>\n",
       "      <td>Vitis vinifera</td>\n",
       "    </tr>\n",
       "    <tr>\n",
       "      <th>1</th>\n",
       "      <td>-1523.730225</td>\n",
       "      <td>-2.365082e-11</td>\n",
       "      <td>Musa acuminata</td>\n",
       "    </tr>\n",
       "  </tbody>\n",
       "</table>\n",
       "</div>"
      ],
      "text/plain": [
       "     first_dim    second_dim        organism\n",
       "0  1523.730225 -2.365082e-11  Vitis vinifera\n",
       "1 -1523.730225 -2.365082e-11  Musa acuminata"
      ]
     },
     "execution_count": 135,
     "metadata": {},
     "output_type": "execute_result"
    }
   ],
   "source": [
    "# Определяем число физических ядер с помощью wmic или используем логические ядра, если не удалось.\n",
    "import multiprocessing\n",
    "try:\n",
    "    output = subprocess.check_output(\n",
    "        \"wmic CPU Get NumberOfCores /Format:csv\".split(),\n",
    "        text=True\n",
    "    ).strip()\n",
    "    lines = output.splitlines()\n",
    "    # Пропускаем заголовок и суммируем количество ядер по всем CPU.\n",
    "    num_cores = sum(int(line.split(',')[-1]) for line in lines[1:] if line)\n",
    "except Exception as e:\n",
    "    num_cores = multiprocessing.cpu_count()\n",
    "\n",
    "# Устанавливаем переменную окружения для Loky\n",
    "os.environ[\"LOKY_MAX_CPU_COUNT\"] = str(num_cores)\n",
    "print(\"Using\", num_cores, \"CPU cores (LOKY_MAX_CPU_COUNT).\")\n",
    "#__________________________________________________________________________\n",
    "tsne = TSNE(n_components=2, learning_rate='auto', random_state=0, perplexity=1)\n",
    "embeddings_tsne = tsne.fit_transform(embeddings)\n",
    "\n",
    "embeddings_tsne_df = pd.DataFrame(\n",
    "    embeddings_tsne, columns=['first_dim', 'second_dim'])\n",
    "\n",
    "embeddings_tsne_df['organism'] = dna_sequences_df['organism']\n",
    "embeddings_tsne_df"
   ]
  },
  {
   "cell_type": "code",
   "execution_count": 136,
   "metadata": {},
   "outputs": [
    {
     "data": {
      "image/png": "[encoded data removed]",
      "text/plain": [
       "<Figure size 640x480 with 1 Axes>"
      ]
     },
     "metadata": {},
     "output_type": "display_data"
    }
   ],
   "source": [
    "ax = sns.scatterplot(data=embeddings_tsne_df,\n",
    "                x='first_dim',\n",
    "                y='second_dim',\n",
    "                hue='organism', color=None,\n",
    "                s=200, alpha=0.7, palette='Set2')\n",
    "\n",
    "plt.legend(loc='center left', bbox_to_anchor=(1, 0.5))\n",
    "\n",
    "plt.tight_layout()"
   ]
  },
  {
   "cell_type": "markdown",
   "metadata": {
    "id": "z19k8a3Pc3Mo"
   },
   "source": [
    "## 3. Точная настройка языковой модели ДНК"
   ]
  },
  {
   "cell_type": "markdown",
   "metadata": {
    "id": "dAqyowcEIr9z"
   },
   "source": [
    "В этом заключительном разделе мы будем адаптировать нашу языковую модель ДНК к новой задаче путем **тонкой настройки**.\n",
    "\n",
    "### Что такое тонкая настройка (Fine-tuning)?\n",
    "Точная настройка - это процесс использования **предварительно обученной модели** и внесения небольших корректировок, чтобы она могла выполнять новую, специализированную задачу.\n",
    "\n",
    "Вместо того чтобы обучать модель с нуля, что может занять очень много времени и потребовать большого количества данных, мы начинаем с модели, которая уже понимает некоторые общие концепции. Затем мы продолжим обучение на меньшем наборе данных для конкретной задачи.\n",
    "\n",
    "**Предварительное обучение с последующей точной настройкой** - это общая схема машинного обучения. Вот несколько примеров из естественного языка и языка ДНК:\n",
    "\n",
    "\n",
    "<a href=\"https://ibb.co/tpd50VH\"><img src=\"https://i.ibb.co/CKrFjRw/ML-for-bio-06.png\" alt=\"NLP vs DNA\" border=\"0\" width=\"400\"></a>\n",
    "\n",
    "\n",
    "### Биологическая проблема\n",
    "\n",
    "--> **Мы будем обучать модель предсказывать, будет ли данная цепочка из 200 оснований ДНК связывать данный фактор транскрипции**.\n",
    "\n",
    "Факторы транскрипции (TFS) - это особые белки, которые связываются с ДНК и играют решающую роль в включении или выключении генов.  Они необходимы, поскольку контролируют экспрессию генов, которая, в свою очередь, влияет на то, как клетки функционируют, развиваются и реагируют на окружающую среду. Например, они могут определить, становится ли клетка мышечной клеткой, нейроном или клеткой кожи.\n",
    "\n",
    "Вот изображение фактора транскрипции (фиолетовый), связывающегося с определенной областью ДНК (выделено желтым).:\n",
    "\n",
    "<div align=\"center\">\n",
    "    <img src=\"https://www.nichd.nih.gov/sites/default/files/2022-05/TranscriptionFactor-400px.jpg\" alt=\"DNA TF binding\" width=\"400\">\n",
    "</div>\n",
    "\n",
    "\n",
    "\n",
    "\n",
    "\n",
    "\n",
    "Каждый фактор транскрипции имеет определенное **предпочтение связывания** - он предпочитает связываться с определенной последовательностью оснований ДНК, а не с другими. Это связано с тем, что трехмерные формы TF и области ДНК могут хорошо сочетаться друг с другом.\n",
    "\n",
    "У людей более 1000 факторов транскрипции. Мы рассмотрим специфический фактор транскрипции, называемый CTCF, который имеет тенденцию связываться с последовательностями, подобными CCACCAGGGGGGCGC (с некоторыми вариациями, допустимыми в некоторых положениях).\n",
    "\n",
    "Вот задача прогнозирования в наглядном виде:\n",
    "\n",
    "\n",
    "- Для конкретной цепочки из 200 пар оснований ДНК мы хотим предсказать вероятность того, что данный **фактор транскрипции** будет связываться в этом регионе.\n"
   ]
  },
  {
   "cell_type": "markdown",
   "metadata": {
    "id": "ZFxmnixIOSad"
   },
   "source": [
    "## Набор данных"
   ]
  },
  {
   "cell_type": "markdown",
   "metadata": {
    "id": "tcMjRbwISHrZ"
   },
   "source": [
    "Набор данных, который мы будем использовать, выглядит следующим образом:\n",
    "\n",
    "<a href=\"https://ibb.co/1ZbY3SF\"><img src=\"https://i.ibb.co/PxtsRSq/ML-for-bio-05.png\" alt=\"dataset description\" border=\"0\"></a>\n",
    "\n",
    "Задача представляет собой ** задачу бинарной классификации ** – учитывая 200 оснований ДНК, мы предсказываем, будет ли она связывать определенный фактор транскрипции, называемый CTCF. CTCF на самом деле является особенно интересным фактором транскрипции, потому что он участвует в ** архитектуре генома **, или сложном трехмерном сворачивании генома в определенные компартменты.\n",
    "\n",
    "Проблема навеяна одной из задач оценки в этом недавнем [2024 paper preprint](https://www.ncbi.nlm.nih.gov/pmc/articles/PMC10925287/), который получил набор данных из этого [2023 genomics interpretation paper](https://www.ncbi.nlm.nih.gov/pmc/articles/PMC10169356/)"
   ]
  },
  {
   "cell_type": "markdown",
   "metadata": {
    "id": "igkX3Ur3iam3"
   },
   "source": [
    "#### Загрузка набора данных."
   ]
  },
  {
   "cell_type": "markdown",
   "metadata": {
    "id": "Iu9RMDPZSb2N"
   },
   "source": [
    "Обучающий набор данных уже создан для вас:\n",
    "- У нас есть 20000 обучающих примеров.\n",
    "- Каждый из них представляет собой среднее встраивание ДНК, которое было извлечено с использованием языковой модели NT.\n",
    "- Последний столбец фрейма данных - это метка, независимо от того, связывает ли ДНК белок CTCF или нет"
   ]
  },
  {
   "cell_type": "code",
   "execution_count": null,
   "metadata": {
    "colab": {
     "base_uri": "https://localhost:8080/",
     "height": 443
    },
    "id": "rM6jQWgISajU",
    "outputId": "0eb8755f-8ae9-4af8-e819-e451754004c5"
   },
   "outputs": [],
   "source": [
    "train_df"
   ]
  },
  {
   "cell_type": "markdown",
   "metadata": {
    "id": "LypwXKfYTj01"
   },
   "source": [
    "В целом, похоже, что 2 класса достаточно сбалансированы (одинаково представлены) в обучающем наборе данных, что означает, что нам не нужно будет выполнять здесь какую-либо перебалансировку:"
   ]
  },
  {
   "cell_type": "code",
   "execution_count": null,
   "metadata": {
    "colab": {
     "base_uri": "https://localhost:8080/",
     "height": 178
    },
    "id": "1Gx5qlSTTkW6",
    "outputId": "a1c40b8d-8826-4ea5-a1c7-2dc553193f35"
   },
   "outputs": [],
   "source": [
    "train_df['label'].value_counts()"
   ]
  },
  {
   "cell_type": "markdown",
   "metadata": {
    "id": "SL_5Ib2TS2bD"
   },
   "source": [
    "Если вам интересно, вы можете взглянуть на код, описывающий, как был сгенерирован этот набор данных, но вам не нужно запускать его здесь."
   ]
  },
  {
   "cell_type": "markdown",
   "metadata": {
    "id": "nEqZwSkfi3BW"
   },
   "source": [
    "#### [Вам не нужно запускать этот] Код создания набора данных.\n",
    "\n",
    "```python\n",
    "# 1. Загрузите файл h5, содержащий наборы данных CTCF.\n",
    "file_path = os.path.join(ROOT_DIR, 'CTCF_200.h5')\n",
    "\n",
    "with h5py.File(file_path, 'r') as h5file:\n",
    "  print(\"Keys: %s\" % list(h5file.keys()))\n",
    "\n",
    "  # Получите доступ к каждому набору данных и преобразуйте его в массивы numpy.\n",
    "  x_train = h5file['x_train'][()]\n",
    "  y_train = h5file['y_train'][()]\n",
    "  x_valid = h5file['x_valid'][()]\n",
    "  y_valid = h5file['y_valid'][()]\n",
    "  x_test = h5file['x_test'][()]\n",
    "  y_test = h5file['y_test'][()]\n",
    "\n",
    "# Каждая последовательность ДНК имеет кодировку one-hot. Визуализируйте первый обучающий пример.:\n",
    "fig, ax = plt.subplots(figsize=(12, 12))\n",
    "plt.imshow(x_train[0, :, :])\n",
    "plt.show()\n",
    "\n",
    "# 2. Поскольку наша языковая модель ДНК фактически принимает буквы в качестве входных данных, мы можем отменить\n",
    "# одноразовое кодирование с помощью функции:\n",
    "\n",
    "def one_hot_to_dna_batch(one_hot_encoded_batch: np.ndarray):\n",
    "  \"\"\"\n",
    "  Преобразуйте пакет однократно закодированных последовательностей ДНК обратно в строки последовательностей ДНК.\n",
    "\n",
    "  Аргументы:\n",
    "    one_hot_encoded_batch (numpy.ndarray): трехмерный массив numpy с кодированием one-hot\n",
    "      последовательности ДНК. Форма должна быть (num_sequences, sequence_length, 4).\n",
    "\n",
    "  ВОЗВРАТ:\n",
    "    список: Список последовательностей ДНК.\n",
    "  \"\"\"\n",
    "  # Определите отображение от одноразового кодирования к нуклеотидам.\n",
    "  one_hot_mapping = {\n",
    "      (1, 0, 0, 0): 'A',\n",
    "      (0, 1, 0, 0): 'C',\n",
    "      (0, 0, 1, 0): 'G',\n",
    "      (0, 0, 0, 1): 'T',\n",
    "  }\n",
    "\n",
    "  dna_sequences = []\n",
    "\n",
    "  for one_hot_encoded in one_hot_encoded_batch:\n",
    "    dna_sequence = []\n",
    "    for one_hot in one_hot_encoded:\n",
    "      one_hot_tuple = tuple(one_hot)\n",
    "      dna_sequence.append(one_hot_mapping[one_hot_tuple])\n",
    "\n",
    "    dna_sequences.append(''.join(dna_sequence))\n",
    "\n",
    "  return dna_sequences\n",
    "\n",
    "NUM_TRAIN_EXAMPLES = 20_000\n",
    "NUM_VALID_EXAMPLES = 5_000\n",
    "\n",
    "x_train = one_hot_to_dna_batch(\n",
    "    np.moveaxis(x_train, 1, -1)[0:NUM_TRAIN_EXAMPLES])\n",
    "y_train = y_train[0:NUM_TRAIN_EXAMPLES]\n",
    "\n",
    "x_valid = one_hot_to_dna_batch(\n",
    "    np.moveaxis(x_valid, 1, -1)[0:NUM_VALID_EXAMPLES])\n",
    "y_valid = y_valid[0:NUM_VALID_EXAMPLES]\n",
    "\n",
    "# Взгляните на обучающие примеры и ярлыки:\n",
    "print(x_train[0:5])\n",
    "print(y_train[0:5])\n",
    "\n",
    "# 3. Вычислите средние вложения последовательностей в языковую модель ДНК.\n",
    "train_embeddings = compute_mean_sequence_embeddings(\n",
    "    x_train, tokenizer, language_model)\n",
    "train_df = pd.DataFrame(train_embeddings)\n",
    "train_df['label'] = y_train[:, 0]\n",
    "\n",
    "valid_embeddings = compute_mean_sequence_embeddings(\n",
    "    x_valid, tokenizer, language_model)\n",
    "valid_df = pd.DataFrame(valid_embeddings)\n",
    "valid_df['label'] = y_valid[:, 0]\n",
    "```"
   ]
  },
  {
   "cell_type": "markdown",
   "metadata": {
    "id": "TJ7HXckUwbfY"
   },
   "source": [
    "## Преобразуйте данные в набор данных TensorFlow"
   ]
  },
  {
   "cell_type": "markdown",
   "metadata": {
    "id": "-4jfUcKiUcTl"
   },
   "source": [
    "Нам нужно будет преобразовать эти фреймы данных в набор данных TensorFlow, который мы можем легко использовать при обучении модели:"
   ]
  },
  {
   "cell_type": "code",
   "execution_count": null,
   "metadata": {
    "id": "D-GPb4YWw8ld"
   },
   "outputs": [],
   "source": [
    "import tensorflow as tf\n",
    "import numpy as np\n",
    "\n",
    "def convert_to_tfds(df: pd.DataFrame, batch_size: int=32,\n",
    "                    is_training: bool=False):\n",
    "    \"\"\"Преобразуйте вложения и метки в набор данных TensorFlow.\"\"\"\n",
    "    embeddings = np.array(df.iloc[:, :-1])\n",
    "    labels = np.array(df.iloc[:, -1])[:, None]\n",
    "\n",
    "    ds = tf.data.Dataset.from_tensor_slices(\n",
    "        {'embeddings': embeddings, 'labels': labels})\n",
    "\n",
    "    if is_training:\n",
    "      ds = ds.shuffle(buffer_size=len(df)).repeat()\n",
    "\n",
    "    ds = ds.batch(batch_size).prefetch(tf.data.experimental.AUTOTUNE)\n",
    "\n",
    "    return iter(ds)\n",
    "\n",
    "BATCH_SIZE = 32\n",
    "\n",
    "train_ds = convert_to_tfds(\n",
    "    train_df, batch_size=BATCH_SIZE, is_training=True)\n",
    "valid_ds = convert_to_tfds(\n",
    "    valid_df, batch_size=BATCH_SIZE, is_training=False)"
   ]
  },
  {
   "cell_type": "markdown",
   "metadata": {
    "id": "ufGd4gz1oiCi"
   },
   "source": [
    "Давайте взглянем на один обучающий пакет данных:"
   ]
  },
  {
   "cell_type": "code",
   "execution_count": null,
   "metadata": {
    "colab": {
     "base_uri": "https://localhost:8080/"
    },
    "id": "6U56UKQWxjdv",
    "outputId": "1cfd9108-65da-4d85-b874-75fe6329c4ef"
   },
   "outputs": [],
   "source": [
    "batch = next(train_ds)\n",
    "batch"
   ]
  },
  {
   "cell_type": "markdown",
   "metadata": {
    "id": "C2CzBBJxVTAG"
   },
   "source": [
    "Весь набор данных подготовлен для обучения модели!"
   ]
  },
  {
   "cell_type": "markdown",
   "metadata": {
    "id": "80wbx6lTofFI"
   },
   "source": [
    "## Точная настройка модели"
   ]
  },
  {
   "cell_type": "markdown",
   "metadata": {
    "id": "7vwwXzz1i3Dq"
   },
   "source": [
    "\n",
    "Теперь мы будем обучать простую линейную модель [flax](https://flax.readthedocs.io/en/latest/) поверх средних вложений ДНК.\n",
    "\n",
    "Flax очень похож на многие другие фреймворки глубокого обучения (особенно [Haiku](https://dm-haiku.readthedocs.io/en/latest/), если вы с ним сталкивались). В нашей настройке обратите внимание, что наша модель представляет собой всего лишь MLP (многослойный персептрон, представляющий собой несколько линейных слоев с некоторыми нелинейностями) – мы не модифицируем (возвращаемся к) исходную языковую модель ДНК."
   ]
  },
  {
   "cell_type": "code",
   "execution_count": null,
   "metadata": {
    "id": "mAxz08WTOeTb"
   },
   "outputs": [],
   "source": [
    "class Model(nn.Module):\n",
    "  dim: int = 128\n",
    "\n",
    "  @nn.compact\n",
    "  def __call__(self, x):\n",
    "    x = nn.Dense(self.dim * 2)(x)\n",
    "    x = nn.gelu(x)\n",
    "    x = nn.Dense(self.dim)(x)\n",
    "    x = nn.gelu(x)\n",
    "    x = nn.Dense(1)(x)\n",
    "    return x"
   ]
  },
  {
   "cell_type": "code",
   "execution_count": null,
   "metadata": {
    "id": "pPrdkSM-c2VT"
   },
   "outputs": [],
   "source": [
    "mlp = Model()"
   ]
  },
  {
   "cell_type": "markdown",
   "metadata": {
    "id": "Kve15vj32elg"
   },
   "source": [
    "### Тренировочный цикл\n",
    "\n",
    "Настроив модель и данные, мы теперь можем инициализировать параметры нашей модели, наш оптимизатор и написать функцию для выполнения одного шага обучения (который включает в себя прямой проход модели, вычисление потерь, вычисление градиента и обновление параметров модели с использованием градиентов):"
   ]
  },
  {
   "cell_type": "code",
   "execution_count": null,
   "metadata": {
    "id": "wzvdOVyRPaF7"
   },
   "outputs": [],
   "source": [
    "LEARNING_RATE = 0.0001\n",
    "\n",
    "init_rng = jax.random.PRNGKey(42)\n",
    "variables = mlp.init(init_rng, batch['embeddings'])\n",
    "params = variables['params']\n",
    "\n",
    "optimiser = optax.adam(LEARNING_RATE)\n",
    "opt_state = optimiser.init(params)"
   ]
  },
  {
   "cell_type": "markdown",
   "metadata": {
    "id": "2CQe4CHuvmPx"
   },
   "source": [
    "Вы можете ознакомиться с названиями слоев в нашей нейронной сети следующим образом:"
   ]
  },
  {
   "cell_type": "code",
   "execution_count": null,
   "metadata": {
    "colab": {
     "base_uri": "https://localhost:8080/"
    },
    "id": "B3EbmNT5vhXX",
    "outputId": "e43973af-99dd-457b-a63e-e6cfa1ed2eeb"
   },
   "outputs": [],
   "source": [
    "params.keys()"
   ]
  },
  {
   "cell_type": "markdown",
   "metadata": {
    "id": "wgOUFfqRvpTw"
   },
   "source": [
    "И убедитесь, что форма этого слоя соответствует вашим ожиданиям, например, так:"
   ]
  },
  {
   "cell_type": "code",
   "execution_count": null,
   "metadata": {
    "colab": {
     "base_uri": "https://localhost:8080/"
    },
    "id": "rZaFLwwAvtO8",
    "outputId": "2f6f558a-43d7-4df5-aa9e-2a57a74ca885"
   },
   "outputs": [],
   "source": [
    "for layer_name in ['Dense_0', 'Dense_1', 'Dense_2']:\n",
    "  print(params[layer_name]['kernel'].shape)"
   ]
  },
  {
   "cell_type": "markdown",
   "metadata": {},
   "source": [
    "### **Вопрос**: \n",
    "Можете ли вы выяснить, откуда берутся эти формы, учитывая наш код в нашей `class Model` выше?"
   ]
  },
  {
   "cell_type": "code",
   "execution_count": null,
   "metadata": {},
   "outputs": [],
   "source": []
  },
  {
   "cell_type": "markdown",
   "metadata": {
    "id": "rSfHeH5zyqBd"
   },
   "source": [
    "Мы уже могли бы делать прогнозы, используя эти случайно инициированные параметры (просто прогнозы будут случайными).:"
   ]
  },
  {
   "cell_type": "code",
   "execution_count": null,
   "metadata": {
    "colab": {
     "base_uri": "https://localhost:8080/"
    },
    "id": "vpzUpbHdyYwY",
    "outputId": "6ee9a3f5-af70-47c0-b64c-9bd3ed7edc38"
   },
   "outputs": [],
   "source": [
    "preds = mlp.apply({'params': params}, batch['embeddings'])\n",
    "nn.sigmoid(preds)"
   ]
  },
  {
   "cell_type": "markdown",
   "metadata": {
    "id": "nvRto9Nky_40"
   },
   "source": [
    "Давайте теперь определим функцию потерь, которую мы можем использовать для обучения этих параметров:"
   ]
  },
  {
   "cell_type": "code",
   "execution_count": null,
   "metadata": {
    "id": "qgM5xJW6x8Hm"
   },
   "outputs": [],
   "source": [
    "def loss_fn(params, embeddings, labels):\n",
    "  \"\"\"Применяет сигмоид к логитам и вычисляет потери двоичной кросс-энтропии.\"\"\"\n",
    "  logits = mlp.apply({'params': params}, embeddings)\n",
    "  loss = optax.sigmoid_binary_cross_entropy(\n",
    "      logits=logits, labels=labels).mean()\n",
    "  return loss"
   ]
  },
  {
   "cell_type": "markdown",
   "metadata": {
    "id": "yOkY0h3C0LuR"
   },
   "source": [
    "Давайте вычислим пример потерь:"
   ]
  },
  {
   "cell_type": "code",
   "execution_count": null,
   "metadata": {
    "colab": {
     "base_uri": "https://localhost:8080/"
    },
    "id": "uqkzxWnxyRA2",
    "outputId": "5deadeb5-390a-4291-be14-c362a8d38366"
   },
   "outputs": [],
   "source": [
    "embeddings = jnp.array(batch['embeddings'])\n",
    "labels = jnp.array(batch['labels'])\n",
    "loss_fn(params, embeddings, labels)"
   ]
  },
  {
   "cell_type": "markdown",
   "metadata": {
    "id": "nro6FSdK_6Ji"
   },
   "source": [
    "Итак, мы ожидаем потери примерно в диапазоне 0,6-0,7 для случайно инициализированных весов. Надеюсь, при обучении модели мы увидим потери меньшие, чем эти, поскольку модель изучает сигнал в данных! :)"
   ]
  },
  {
   "cell_type": "markdown",
   "metadata": {
    "id": "e7LRUb1l0N2F"
   },
   "source": [
    "Наконец, мы можем написать обучающую пошаговую функцию:"
   ]
  },
  {
   "cell_type": "code",
   "execution_count": null,
   "metadata": {
    "id": "jJ4PNA1pvZRI"
   },
   "outputs": [],
   "source": [
    "@jax.jit\n",
    "def train_step(params, opt_state, embeddings, labels):\n",
    "  \"\"\"Единый шаг обучения, который вычисляет градиенты и обновляет параметры модели.\"\"\"\n",
    "  loss, grads = jax.value_and_grad(loss_fn)(params, embeddings, labels)\n",
    "  updates, opt_state = optimiser.update(grads, opt_state)\n",
    "  params = optax.apply_updates(params, updates)\n",
    "  return params, opt_state, loss"
   ]
  },
  {
   "cell_type": "markdown",
   "metadata": {
    "id": "47VtoXKw403F"
   },
   "source": [
    "### Давайте обучим модель!"
   ]
  },
  {
   "cell_type": "code",
   "execution_count": null,
   "metadata": {},
   "outputs": [],
   "source": [
    "NUM_EPOCHS = 5\n",
    "NUM_TRAINING_STEPS = (len(train_df) // BATCH_SIZE) * NUM_EPOCHS\n",
    "LEARNING_RATE = 0.001\n",
    "\n",
    "# Повторно инициализируйте модель, чтобы убедиться, что мы начинаем заново при каждом запуске ячейки.\n",
    "init_rng = jax.random.PRNGKey(42)\n",
    "variables = mlp.init(init_rng, batch['embeddings'])\n",
    "params = variables['params']\n",
    "\n",
    "optimiser = optax.adam(LEARNING_RATE)\n",
    "opt_state = optimiser.init(params)\n",
    "\n",
    "# Ведите учет потерь.\n",
    "running_train_loss = None\n",
    "running_train_losses = []\n",
    "valid_losses = []\n",
    "\n",
    "for epoch in tqdm.tqdm(range(NUM_EPOCHS)):\n",
    "\n",
    "  # Тренировочный цикл.\n",
    "  for step in range(NUM_TRAINING_STEPS):\n",
    "    batch = next(train_ds)\n",
    "    embeddings = jnp.array(batch['embeddings'])\n",
    "    labels = jnp.array(batch['labels'])\n",
    "    params, opt_state, loss = train_step(params, opt_state, embeddings, labels)\n",
    "\n",
    "    if running_train_loss is None:\n",
    "      running_train_loss = loss.item()\n",
    "    else:\n",
    "      running_train_loss = 0.99 * running_train_loss + (1 - 0.99) * loss.item()\n",
    "    running_train_losses.append(running_train_loss)\n",
    "\n",
    "  # Цикл проверки.\n",
    "  valid_ds = convert_to_tfds(valid_df, batch_size=BATCH_SIZE, is_training=False)\n",
    "  for batch in valid_ds:\n",
    "    embeddings = jnp.array(batch['embeddings'])\n",
    "    labels = jnp.array(batch['labels'])\n",
    "    loss = loss_fn(params, embeddings, labels)\n",
    "    valid_losses.append(loss.item())\n",
    "\n",
    "  valid_loss = np.mean(valid_losses)\n",
    "  print(f'[Epoch {epoch}]: Valid loss={valid_loss:.3f}, '\n",
    "        f'Train loss={running_train_loss:.3f}\\n')\n",
    "\n",
    "print('Обучение завершено!!!')"
   ]
  },
  {
   "cell_type": "markdown",
   "metadata": {
    "id": "vNxoqkSbGvtr"
   },
   "source": [
    "🎉🎉 **И мы закончили с базовым обучением модели!** 🎉🎉"
   ]
  },
  {
   "cell_type": "markdown",
   "metadata": {
    "id": "8qQ4NafPHCsL"
   },
   "source": [
    "## Проверка модели на работоспособность\n",
    "\n",
    "Мы можем попробовать вывести обученную модель из любой новой цепочки ДНК, представляющей интерес. Например, поскольку из биологических экспериментов мы знаем, что белок CTCF связывается с последовательностями ДНК, содержащими мотивы, подобные \"CCACCAGGGGGGCGC\", то модель должна предсказывать очень высокую вероятность связывания ДНК, содержащей эти мотивы.\n",
    "\n",
    "Давайте построим цепочку ДНК длиной в 200 оснований и возьмем ее встраивание:"
   ]
  },
  {
   "cell_type": "code",
   "execution_count": null,
   "metadata": {
    "colab": {
     "base_uri": "https://localhost:8080/"
    },
    "id": "knsDFhP5HCx7",
    "outputId": "ff95213e-edd8-4373-d658-0a28dc49fe24"
   },
   "outputs": [],
   "source": [
    "ctcf_motif_dna = 'CCACCAGGGGGCGC'*14 + 'AAAA'\n",
    "print('Длина цепочки ДНК, заполненной мотивом CTCF:', len(ctcf_motif_dna))\n",
    "\n",
    "ctcf_motif_embedding = compute_mean_sequence_embeddings(\n",
    "    [ctcf_motif_dna], tokenizer, language_model)"
   ]
  },
  {
   "cell_type": "markdown",
   "metadata": {
    "id": "dM_yTcpcILFm"
   },
   "source": [
    "Теперь мы можем вычислить вероятность того, что ДНК свяжет CTCF:"
   ]
  },
  {
   "cell_type": "code",
   "execution_count": null,
   "metadata": {
    "colab": {
     "base_uri": "https://localhost:8080/"
    },
    "id": "9L7HI9d_HdkY",
    "outputId": "83cdbb72-1c5c-49ad-e09f-82efe0f1de6d"
   },
   "outputs": [],
   "source": [
    "jax.nn.sigmoid(mlp.apply({'params': params}, ctcf_motif_embedding))"
   ]
  },
  {
   "cell_type": "markdown",
   "metadata": {
    "id": "vf3cVUYtIO4D"
   },
   "source": [
    "Успех! Эта вероятность очень близка к 1. Это означает, что модель научилась идентифицировать некоторое представление этого мотива и связывать его со связыванием CTCF с ДНК.\n",
    "\n",
    "И наоборот, случайные цепочки ДНК должны иметь низкую вероятность связывания CTCF:"
   ]
  },
  {
   "cell_type": "code",
   "execution_count": null,
   "metadata": {
    "id": "lgadMGYYGs5E"
   },
   "outputs": [],
   "source": [
    "%%capture\n",
    "random_dna_strings = [\n",
    "    'ACGTACGT'*25,\n",
    "    'CGGCCGCG'*25,\n",
    "    'TCGATCGT'*25,\n",
    "    'TTTTTTTT'*25,\n",
    "]\n",
    "\n",
    "probabilities = []\n",
    "\n",
    "for random_dna_string in random_dna_strings:\n",
    "  random_dna_embedding = compute_mean_sequence_embeddings(\n",
    "    [random_dna_string], tokenizer, language_model)\n",
    "\n",
    "  probabilities.append(\n",
    "      jax.nn.sigmoid(mlp.apply({'params': params}, random_dna_embedding))[0])"
   ]
  },
  {
   "cell_type": "code",
   "execution_count": null,
   "metadata": {
    "colab": {
     "base_uri": "https://localhost:8080/"
    },
    "id": "f6nL2PwKWhZG",
    "outputId": "e26fd68d-2940-41de-818f-99b2e81bbcdd"
   },
   "outputs": [],
   "source": [
    "probabilities"
   ]
  },
  {
   "cell_type": "markdown",
   "metadata": {
    "id": "m5euD1_nI2RL"
   },
   "source": [
    "Отлично, все это выглядит как вероятность, близкая к нулю, чего мы и ожидали 😎."
   ]
  },
  {
   "cell_type": "markdown",
   "metadata": {
    "id": "17otXl0aGzyx"
   },
   "source": [
    "## [Необязательные последующие действия]"
   ]
  },
  {
   "cell_type": "markdown",
   "metadata": {
    "id": "gHSPk0yVG5w8"
   },
   "source": [
    "1. **[Построение графика потерь]** Попробуйте построить график потерь при обучении и проверке с течением времени. Что вы видите? Должны ли мы тренировать его дольше? Есть ли переобучение в тренировочном наборе? Если да, то как вы могли бы улучшить ситуацию?\n",
    " - **Подсказка**: попробуйте `plt.plot(train_losses, c = 'grey')`.\n",
    "2. **[Показатели оценки]** До сих пор мы отслеживали потери только во время обучения модели, но их немного сложно интерпретировать. Как вы могли бы реализовать и отслеживать показатель **точности** во время обучения?\n",
    " - **Подсказка**: Помните, что если вы укажете jax.nn.sigmoid на предсказания модели, это даст вероятность того, что последовательность ДНК связывает белок CTCF. Вы могли бы рассматривать любую вероятность выше 0,5 как предсказание \"1\", а любую вероятность ниже 0,5 - как предсказание \"0\".\n",
    "3. **[Настройка гиперпараметров]** Попробуйте изменить скорость обучения, размер пакета и количество шагов обучения. Как эти изменения влияют на сходимость и конечную производительность модели?\n",
    "4. **[Расширение данных]** Можете ли вы придумать способ расширить (или дополнить) обучающий набор? Как бы вы оценили, полезно ли это для производительности модели?\n",
    "5. **[Разные архитектуры]** Поэкспериментируйте с различными архитектурами моделей, например, добавьте больше слоев или используйте различные функции активации.\n",
    " - **Задача**: если вы чувствуете себя очень предприимчивым, попробуйте внедрить CNN, который может учиться непосредственно на последовательностях ДНК (кодируемых одним нажатием кнопки)!\n"
   ]
  },
  {
   "cell_type": "code",
   "execution_count": null,
   "metadata": {},
   "outputs": [],
   "source": []
  },
  {
   "cell_type": "code",
   "execution_count": null,
   "metadata": {},
   "outputs": [],
   "source": []
  },
  {
   "cell_type": "code",
   "execution_count": null,
   "metadata": {},
   "outputs": [],
   "source": []
  },
  {
   "cell_type": "code",
   "execution_count": null,
   "metadata": {},
   "outputs": [],
   "source": []
  }
 ],
 "metadata": {
  "accelerator": "GPU",
  "colab": {
   "gpuType": "A100",
   "machine_shape": "hm",
   "provenance": []
  },
  "kernelspec": {
   "display_name": "Python 3 (ipykernel)",
   "language": "python",
   "name": "python3"
  },
  "language_info": {
   "codemirror_mode": {
    "name": "ipython",
    "version": 3
   },
   "file_extension": ".py",
   "mimetype": "text/x-python",
   "name": "python",
   "nbconvert_exporter": "python",
   "pygments_lexer": "ipython3",
   "version": "3.13.2"
  }
 },
 "nbformat": 4,
 "nbformat_minor": 4
}
